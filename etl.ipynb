{
 "cells": [
  {
   "cell_type": "markdown",
   "source": [
    "# Publishing Tech Trends\n",
    "\n",
    "![Trying stuff...](vis/00-Cover.jpg)\n",
    "\n",
    "In this notebook we will explore data related to the publishing tech sector. Books' metadata have been retrieved from the O'Reilly Learning Platform, where\n",
    "the following publishers make part of their catalogue available to O'Reilly subscribers:\n",
    "\n",
    "* Addison-Wesley Professional\n",
    "* Apress\n",
    "* Manning\n",
    "* Microsoft Press\n",
    "* No Starch Press\n",
    "* O'Reilly Media, Inc.\n",
    "* Packt Publishing\n",
    "* Pearson\n",
    "* Pragmatic Bookshelf\n",
    "\n"
   ],
   "metadata": {
    "collapsed": false
   }
  },
  {
   "cell_type": "markdown",
   "source": [
    "## Initial steps"
   ],
   "metadata": {
    "collapsed": false
   }
  },
  {
   "cell_type": "code",
   "execution_count": 1,
   "outputs": [],
   "source": [
    "import pandas as pd\n",
    "import numpy as np\n",
    "import seaborn as sns"
   ],
   "metadata": {
    "collapsed": false,
    "ExecuteTime": {
     "end_time": "2023-07-13T15:41:56.678763Z",
     "start_time": "2023-07-13T15:41:56.676899Z"
    }
   }
  },
  {
   "cell_type": "code",
   "execution_count": 2,
   "outputs": [],
   "source": [
    "df = pd.read_json('data/dataset.json')"
   ],
   "metadata": {
    "collapsed": false,
    "ExecuteTime": {
     "end_time": "2023-07-13T15:41:56.766779Z",
     "start_time": "2023-07-13T15:41:56.679248Z"
    }
   }
  },
  {
   "cell_type": "code",
   "execution_count": 3,
   "outputs": [
    {
     "name": "stdout",
     "output_type": "stream",
     "text": [
      "<class 'pandas.core.frame.DataFrame'>\n",
      "RangeIndex: 5522 entries, 0 to 5521\n",
      "Data columns (total 12 columns):\n",
      " #   Column            Non-Null Count  Dtype  \n",
      "---  ------            --------------  -----  \n",
      " 0   product_id        5522 non-null   int64  \n",
      " 1   title             5522 non-null   object \n",
      " 2   authors           5522 non-null   object \n",
      " 3   description       5522 non-null   object \n",
      " 4   language          5522 non-null   object \n",
      " 5   categories        5522 non-null   object \n",
      " 6   url               5522 non-null   object \n",
      " 7   cover_image       5522 non-null   object \n",
      " 8   publication_date  5522 non-null   object \n",
      " 9   publishers        5522 non-null   object \n",
      " 10  page_count        5522 non-null   int64  \n",
      " 11  average_rating    3034 non-null   float64\n",
      "dtypes: float64(1), int64(2), object(9)\n",
      "memory usage: 517.8+ KB\n"
     ]
    }
   ],
   "source": [
    "df.info()"
   ],
   "metadata": {
    "collapsed": false,
    "ExecuteTime": {
     "end_time": "2023-07-13T15:41:56.775601Z",
     "start_time": "2023-07-13T15:41:56.772945Z"
    }
   }
  },
  {
   "cell_type": "markdown",
   "source": [
    "The dataset consists of 5522 entries, the column `product_id` is a unique identifier for the row, it corresponds to the **ISBN** code.\n",
    "Each row has values for every column except for *average_rating*, unfortunately not all books have ratings."
   ],
   "metadata": {
    "collapsed": false
   }
  },
  {
   "cell_type": "code",
   "execution_count": 4,
   "outputs": [
    {
     "name": "stdout",
     "output_type": "stream",
     "text": [
      "Product id is unique: True\n"
     ]
    }
   ],
   "source": [
    "product_id_is_unique = df['product_id'].is_unique\n",
    "print(f\"Product id is unique: {product_id_is_unique}\")\n",
    "df.set_index('product_id', inplace=True)"
   ],
   "metadata": {
    "collapsed": false,
    "ExecuteTime": {
     "end_time": "2023-07-13T15:41:56.779086Z",
     "start_time": "2023-07-13T15:41:56.775445Z"
    }
   }
  },
  {
   "cell_type": "markdown",
   "source": [
    "## Cleanup"
   ],
   "metadata": {
    "collapsed": false
   }
  },
  {
   "cell_type": "markdown",
   "source": [
    "Title, description and language columns treatment, remove whitespace characters (leading and/or trailing)."
   ],
   "metadata": {
    "collapsed": false
   }
  },
  {
   "cell_type": "code",
   "execution_count": 5,
   "outputs": [],
   "source": [
    "df[['title', 'description', 'language']] = df[['title', 'description', 'language']].apply(lambda x: x.str.strip())"
   ],
   "metadata": {
    "collapsed": false,
    "ExecuteTime": {
     "end_time": "2023-07-13T15:41:56.785138Z",
     "start_time": "2023-07-13T15:41:56.781547Z"
    }
   }
  },
  {
   "cell_type": "code",
   "execution_count": 6,
   "outputs": [],
   "source": [
    "df['authors'] = df['authors'].apply(lambda x: [elem.strip() for elem in x])"
   ],
   "metadata": {
    "collapsed": false,
    "ExecuteTime": {
     "end_time": "2023-07-13T15:41:56.814252Z",
     "start_time": "2023-07-13T15:41:56.787809Z"
    }
   }
  },
  {
   "cell_type": "markdown",
   "source": [
    "Let's look at language columns"
   ],
   "metadata": {
    "collapsed": false
   }
  },
  {
   "cell_type": "code",
   "execution_count": 7,
   "outputs": [
    {
     "data": {
      "text/plain": "language\nen         5501\nzh-hans      11\nen-us         9\npt            1\nName: count, dtype: int64"
     },
     "execution_count": 7,
     "metadata": {},
     "output_type": "execute_result"
    }
   ],
   "source": [
    "df['language'].value_counts()"
   ],
   "metadata": {
    "collapsed": false,
    "ExecuteTime": {
     "end_time": "2023-07-13T15:41:56.814771Z",
     "start_time": "2023-07-13T15:41:56.792287Z"
    }
   }
  },
  {
   "cell_type": "markdown",
   "source": [
    "We can convert the book with language *en-us* to *en*, and we can remove the books in chinese and portuguese languages as they are not representatives in the dataset."
   ],
   "metadata": {
    "collapsed": false
   }
  },
  {
   "cell_type": "code",
   "execution_count": 8,
   "outputs": [],
   "source": [
    "zh_or_pt_languages_filter = (df['language'] == 'zh-hans') | (df['language'] == 'pt')"
   ],
   "metadata": {
    "collapsed": false,
    "ExecuteTime": {
     "end_time": "2023-07-13T15:41:56.814862Z",
     "start_time": "2023-07-13T15:41:56.795804Z"
    }
   }
  },
  {
   "cell_type": "code",
   "execution_count": 9,
   "outputs": [
    {
     "data": {
      "text/plain": "                                    title                     authors  \\\nproduct_id                                                              \n9787111549246           程序设计导论：Python语言实践  [罗伯特 塞奇威克, 凯文 韦恩, 罗伯特 唐德罗]   \n9787111633280              C++语言导学（原书第2版）               [本贾尼 斯特劳斯特鲁普]   \n9787111562528   C++程序设计：原理与实践（进阶篇）（原书第2版）               [本贾尼 斯特劳斯特鲁普]   \n9787111678458         Python程序设计：人工智能案例实践            [保罗 戴特尔, 哈维 戴特尔]   \n9787111544395  C++程序设计语言（第4部分：标准库）（原书第4版）               [本贾尼 斯特劳斯特鲁普]   \n9787111562252   C++程序设计：原理与实践（基础篇）（原书第2版）               [本贾尼 斯特劳斯特鲁普]   \n9787111640899  数据科学之编程技术：使用R进行数据清理、分析与可视化            [迈克尔 弗里曼, 乔尔 罗斯]   \n9787111370048                  Java并发编程实战  [Brian Goetz, Tim Peierls]   \n9787111684527            面向对象的思考过程（原书第5版）                  [马特 魏斯费尔德]   \n9787111558422                    Go程序设计语言     [艾伦A. A.多诺万, 布莱恩W. 柯尼汉]   \n9787111641414               计算机科学导论：跨学科方法           [罗伯特 塞奇威克, 凯文 韦恩]   \n9781098131289   COMEÇANDO COM INNERSOURCE                 [Andy Oram]   \n\n                                                     description language  \\\nproduct_id                                                                  \n9787111549246  本书从跨学科的角度入手，强调应用，介绍Python有用的功能，包括编程的基本要素、功能、模块...  zh-hans   \n9787111633280  本书简洁、自成体系，包含C++ 语言大多数主要特性和标准库组件。当然，这些并未深入介绍，而是...  zh-hans   \n9787111562528  C++之父Bjarne Stroustrup经典著作《C++程序设计：原理与实践（原书第2版...  zh-hans   \n9787111678458  本书共16章。第1~10章介绍Python编程，涉及人工智能、基本描述统计、集中趋势和分散度...  zh-hans   \n9787111544395  作为C++语言的发明者和主要维护者，Bjarne Stroustrup在撰写本书时绝不仅仅满...  zh-hans   \n9787111562252  C++之父Bjarne Stroustrup的经典著作《C++程序设计：原理与实践（原书第2...  zh-hans   \n9787111640899  本书围绕使用R进行数据科学编程所需的实际步骤展开。全书着眼于该主题，介绍了有关该主题的工具和...  zh-hans   \n9787111370048  本书深入浅出地介绍了Java线程和并发，是一本完美的Java并发参考手册。书中从并发性和线程...  zh-hans   \n9787111684527  本书是一部独具特色的面向对象技术著作。书中结合代码示例生动透彻地讲述了面向对象思想的精髓，让...  zh-hans   \n9787111558422  本书由《C程序设计语言》的作者Kernighan和谷歌公司Go团队主管Alan Donova...  zh-hans   \n9787111641414  本书面向初学者，以跨学科的方法介绍计算机科学的基本知识。全书包括两个部分，第一部分围绕学习编...  zh-hans   \n9781098131289  Bem-vindo ao InnerSource, o poderoso movimento...       pt   \n\n                                                      categories  \\\nproduct_id                                                         \n9787111549246  [[Software Development, Programming Languages,...   \n9787111633280  [[Software Development, Programming Languages,...   \n9787111562528  [[Software Development, Programming Languages,...   \n9787111678458  [[Software Development, Programming Languages,...   \n9787111544395  [[Software Development, Programming Languages,...   \n9787111562252  [[Software Development, Programming Languages,...   \n9787111640899  [[Software Development, Programming Languages,...   \n9787111370048  [[Software Development, Programming Languages,...   \n9787111684527  [[Software Development, Software Architecture,...   \n9787111558422  [[Software Development, Programming Languages,...   \n9787111641414         [[Software Development, Computer Science]]   \n9781098131289   [[Software Development, Software Collaboration]]   \n\n                                                             url  \\\nproduct_id                                                         \n9787111549246  https://learning.oreilly.com/library/view/-/97...   \n9787111633280  https://learning.oreilly.com/library/view/-/97...   \n9787111562528  https://learning.oreilly.com/library/view/-/97...   \n9787111678458  https://learning.oreilly.com/library/view/-/97...   \n9787111544395  https://learning.oreilly.com/library/view/-/97...   \n9787111562252  https://learning.oreilly.com/library/view/-/97...   \n9787111640899  https://learning.oreilly.com/library/view/-/97...   \n9787111370048  https://learning.oreilly.com/library/view/-/97...   \n9787111684527  https://learning.oreilly.com/library/view/-/97...   \n9787111558422  https://learning.oreilly.com/library/view/-/97...   \n9787111641414  https://learning.oreilly.com/library/view/-/97...   \n9781098131289  https://learning.oreilly.com/library/view/-/97...   \n\n                                                     cover_image  \\\nproduct_id                                                         \n9787111549246  https://learning.oreilly.com/library/cover/978...   \n9787111633280  https://learning.oreilly.com/library/cover/978...   \n9787111562528  https://learning.oreilly.com/library/cover/978...   \n9787111678458  https://learning.oreilly.com/library/cover/978...   \n9787111544395  https://learning.oreilly.com/library/cover/978...   \n9787111562252  https://learning.oreilly.com/library/cover/978...   \n9787111640899  https://learning.oreilly.com/library/cover/978...   \n9787111370048  https://learning.oreilly.com/library/cover/978...   \n9787111684527  https://learning.oreilly.com/library/cover/978...   \n9787111558422  https://learning.oreilly.com/library/cover/978...   \n9787111641414  https://learning.oreilly.com/library/cover/978...   \n9781098131289  https://learning.oreilly.com/library/cover/978...   \n\n              publication_date              publishers  page_count  \\\nproduct_id                                                           \n9787111549246       2021-08-16               [Pearson]         350   \n9787111633280       2021-08-16               [Pearson]         450   \n9787111562528       2021-08-16               [Pearson]         450   \n9787111678458       2021-08-16               [Pearson]         450   \n9787111544395       2021-08-16               [Pearson]         450   \n9787111562252       2021-08-16               [Pearson]         450   \n9787111640899       2021-08-16               [Pearson]         450   \n9787111370048       2021-08-16               [Pearson]         450   \n9787111684527       2021-08-16               [Pearson]         450   \n9787111558422       2021-08-16               [Pearson]         450   \n9787111641414       2021-08-16               [Pearson]         450   \n9781098131289       2022-02-14  [O'Reilly Media, Inc.]          26   \n\n               average_rating  \nproduct_id                     \n9787111549246             NaN  \n9787111633280             NaN  \n9787111562528             NaN  \n9787111678458             NaN  \n9787111544395             NaN  \n9787111562252             NaN  \n9787111640899             NaN  \n9787111370048             NaN  \n9787111684527             NaN  \n9787111558422             NaN  \n9787111641414             NaN  \n9781098131289             NaN  ",
      "text/html": "<div>\n<style scoped>\n    .dataframe tbody tr th:only-of-type {\n        vertical-align: middle;\n    }\n\n    .dataframe tbody tr th {\n        vertical-align: top;\n    }\n\n    .dataframe thead th {\n        text-align: right;\n    }\n</style>\n<table border=\"1\" class=\"dataframe\">\n  <thead>\n    <tr style=\"text-align: right;\">\n      <th></th>\n      <th>title</th>\n      <th>authors</th>\n      <th>description</th>\n      <th>language</th>\n      <th>categories</th>\n      <th>url</th>\n      <th>cover_image</th>\n      <th>publication_date</th>\n      <th>publishers</th>\n      <th>page_count</th>\n      <th>average_rating</th>\n    </tr>\n    <tr>\n      <th>product_id</th>\n      <th></th>\n      <th></th>\n      <th></th>\n      <th></th>\n      <th></th>\n      <th></th>\n      <th></th>\n      <th></th>\n      <th></th>\n      <th></th>\n      <th></th>\n    </tr>\n  </thead>\n  <tbody>\n    <tr>\n      <th>9787111549246</th>\n      <td>程序设计导论：Python语言实践</td>\n      <td>[罗伯特 塞奇威克, 凯文 韦恩, 罗伯特 唐德罗]</td>\n      <td>本书从跨学科的角度入手，强调应用，介绍Python有用的功能，包括编程的基本要素、功能、模块...</td>\n      <td>zh-hans</td>\n      <td>[[Software Development, Programming Languages,...</td>\n      <td>https://learning.oreilly.com/library/view/-/97...</td>\n      <td>https://learning.oreilly.com/library/cover/978...</td>\n      <td>2021-08-16</td>\n      <td>[Pearson]</td>\n      <td>350</td>\n      <td>NaN</td>\n    </tr>\n    <tr>\n      <th>9787111633280</th>\n      <td>C++语言导学（原书第2版）</td>\n      <td>[本贾尼 斯特劳斯特鲁普]</td>\n      <td>本书简洁、自成体系，包含C++ 语言大多数主要特性和标准库组件。当然，这些并未深入介绍，而是...</td>\n      <td>zh-hans</td>\n      <td>[[Software Development, Programming Languages,...</td>\n      <td>https://learning.oreilly.com/library/view/-/97...</td>\n      <td>https://learning.oreilly.com/library/cover/978...</td>\n      <td>2021-08-16</td>\n      <td>[Pearson]</td>\n      <td>450</td>\n      <td>NaN</td>\n    </tr>\n    <tr>\n      <th>9787111562528</th>\n      <td>C++程序设计：原理与实践（进阶篇）（原书第2版）</td>\n      <td>[本贾尼 斯特劳斯特鲁普]</td>\n      <td>C++之父Bjarne Stroustrup经典著作《C++程序设计：原理与实践（原书第2版...</td>\n      <td>zh-hans</td>\n      <td>[[Software Development, Programming Languages,...</td>\n      <td>https://learning.oreilly.com/library/view/-/97...</td>\n      <td>https://learning.oreilly.com/library/cover/978...</td>\n      <td>2021-08-16</td>\n      <td>[Pearson]</td>\n      <td>450</td>\n      <td>NaN</td>\n    </tr>\n    <tr>\n      <th>9787111678458</th>\n      <td>Python程序设计：人工智能案例实践</td>\n      <td>[保罗 戴特尔, 哈维 戴特尔]</td>\n      <td>本书共16章。第1~10章介绍Python编程，涉及人工智能、基本描述统计、集中趋势和分散度...</td>\n      <td>zh-hans</td>\n      <td>[[Software Development, Programming Languages,...</td>\n      <td>https://learning.oreilly.com/library/view/-/97...</td>\n      <td>https://learning.oreilly.com/library/cover/978...</td>\n      <td>2021-08-16</td>\n      <td>[Pearson]</td>\n      <td>450</td>\n      <td>NaN</td>\n    </tr>\n    <tr>\n      <th>9787111544395</th>\n      <td>C++程序设计语言（第4部分：标准库）（原书第4版）</td>\n      <td>[本贾尼 斯特劳斯特鲁普]</td>\n      <td>作为C++语言的发明者和主要维护者，Bjarne Stroustrup在撰写本书时绝不仅仅满...</td>\n      <td>zh-hans</td>\n      <td>[[Software Development, Programming Languages,...</td>\n      <td>https://learning.oreilly.com/library/view/-/97...</td>\n      <td>https://learning.oreilly.com/library/cover/978...</td>\n      <td>2021-08-16</td>\n      <td>[Pearson]</td>\n      <td>450</td>\n      <td>NaN</td>\n    </tr>\n    <tr>\n      <th>9787111562252</th>\n      <td>C++程序设计：原理与实践（基础篇）（原书第2版）</td>\n      <td>[本贾尼 斯特劳斯特鲁普]</td>\n      <td>C++之父Bjarne Stroustrup的经典著作《C++程序设计：原理与实践（原书第2...</td>\n      <td>zh-hans</td>\n      <td>[[Software Development, Programming Languages,...</td>\n      <td>https://learning.oreilly.com/library/view/-/97...</td>\n      <td>https://learning.oreilly.com/library/cover/978...</td>\n      <td>2021-08-16</td>\n      <td>[Pearson]</td>\n      <td>450</td>\n      <td>NaN</td>\n    </tr>\n    <tr>\n      <th>9787111640899</th>\n      <td>数据科学之编程技术：使用R进行数据清理、分析与可视化</td>\n      <td>[迈克尔 弗里曼, 乔尔 罗斯]</td>\n      <td>本书围绕使用R进行数据科学编程所需的实际步骤展开。全书着眼于该主题，介绍了有关该主题的工具和...</td>\n      <td>zh-hans</td>\n      <td>[[Software Development, Programming Languages,...</td>\n      <td>https://learning.oreilly.com/library/view/-/97...</td>\n      <td>https://learning.oreilly.com/library/cover/978...</td>\n      <td>2021-08-16</td>\n      <td>[Pearson]</td>\n      <td>450</td>\n      <td>NaN</td>\n    </tr>\n    <tr>\n      <th>9787111370048</th>\n      <td>Java并发编程实战</td>\n      <td>[Brian Goetz, Tim Peierls]</td>\n      <td>本书深入浅出地介绍了Java线程和并发，是一本完美的Java并发参考手册。书中从并发性和线程...</td>\n      <td>zh-hans</td>\n      <td>[[Software Development, Programming Languages,...</td>\n      <td>https://learning.oreilly.com/library/view/-/97...</td>\n      <td>https://learning.oreilly.com/library/cover/978...</td>\n      <td>2021-08-16</td>\n      <td>[Pearson]</td>\n      <td>450</td>\n      <td>NaN</td>\n    </tr>\n    <tr>\n      <th>9787111684527</th>\n      <td>面向对象的思考过程（原书第5版）</td>\n      <td>[马特 魏斯费尔德]</td>\n      <td>本书是一部独具特色的面向对象技术著作。书中结合代码示例生动透彻地讲述了面向对象思想的精髓，让...</td>\n      <td>zh-hans</td>\n      <td>[[Software Development, Software Architecture,...</td>\n      <td>https://learning.oreilly.com/library/view/-/97...</td>\n      <td>https://learning.oreilly.com/library/cover/978...</td>\n      <td>2021-08-16</td>\n      <td>[Pearson]</td>\n      <td>450</td>\n      <td>NaN</td>\n    </tr>\n    <tr>\n      <th>9787111558422</th>\n      <td>Go程序设计语言</td>\n      <td>[艾伦A. A.多诺万, 布莱恩W. 柯尼汉]</td>\n      <td>本书由《C程序设计语言》的作者Kernighan和谷歌公司Go团队主管Alan Donova...</td>\n      <td>zh-hans</td>\n      <td>[[Software Development, Programming Languages,...</td>\n      <td>https://learning.oreilly.com/library/view/-/97...</td>\n      <td>https://learning.oreilly.com/library/cover/978...</td>\n      <td>2021-08-16</td>\n      <td>[Pearson]</td>\n      <td>450</td>\n      <td>NaN</td>\n    </tr>\n    <tr>\n      <th>9787111641414</th>\n      <td>计算机科学导论：跨学科方法</td>\n      <td>[罗伯特 塞奇威克, 凯文 韦恩]</td>\n      <td>本书面向初学者，以跨学科的方法介绍计算机科学的基本知识。全书包括两个部分，第一部分围绕学习编...</td>\n      <td>zh-hans</td>\n      <td>[[Software Development, Computer Science]]</td>\n      <td>https://learning.oreilly.com/library/view/-/97...</td>\n      <td>https://learning.oreilly.com/library/cover/978...</td>\n      <td>2021-08-16</td>\n      <td>[Pearson]</td>\n      <td>450</td>\n      <td>NaN</td>\n    </tr>\n    <tr>\n      <th>9781098131289</th>\n      <td>COMEÇANDO COM INNERSOURCE</td>\n      <td>[Andy Oram]</td>\n      <td>Bem-vindo ao InnerSource, o poderoso movimento...</td>\n      <td>pt</td>\n      <td>[[Software Development, Software Collaboration]]</td>\n      <td>https://learning.oreilly.com/library/view/-/97...</td>\n      <td>https://learning.oreilly.com/library/cover/978...</td>\n      <td>2022-02-14</td>\n      <td>[O'Reilly Media, Inc.]</td>\n      <td>26</td>\n      <td>NaN</td>\n    </tr>\n  </tbody>\n</table>\n</div>"
     },
     "execution_count": 9,
     "metadata": {},
     "output_type": "execute_result"
    }
   ],
   "source": [
    "df.loc[zh_or_pt_languages_filter]"
   ],
   "metadata": {
    "collapsed": false,
    "ExecuteTime": {
     "end_time": "2023-07-13T15:41:56.815585Z",
     "start_time": "2023-07-13T15:41:56.798544Z"
    }
   }
  },
  {
   "cell_type": "code",
   "execution_count": 10,
   "outputs": [],
   "source": [
    "df.drop(index=df[zh_or_pt_languages_filter].index, inplace=True)"
   ],
   "metadata": {
    "collapsed": false,
    "ExecuteTime": {
     "end_time": "2023-07-13T15:41:56.815667Z",
     "start_time": "2023-07-13T15:41:56.810055Z"
    }
   }
  },
  {
   "cell_type": "code",
   "execution_count": 11,
   "outputs": [
    {
     "name": "stdout",
     "output_type": "stream",
     "text": [
      "Book count: 5510\n"
     ]
    }
   ],
   "source": [
    "print(f'Book count: {len(df.index.drop_duplicates())}')"
   ],
   "metadata": {
    "collapsed": false,
    "ExecuteTime": {
     "end_time": "2023-07-13T15:41:56.815791Z",
     "start_time": "2023-07-13T15:41:56.814432Z"
    }
   }
  },
  {
   "cell_type": "markdown",
   "source": [
    "Updating language from en-us to en"
   ],
   "metadata": {
    "collapsed": false
   }
  },
  {
   "cell_type": "code",
   "execution_count": 12,
   "outputs": [],
   "source": [
    "en_us_filter = df['language'] == 'en-us'"
   ],
   "metadata": {
    "collapsed": false,
    "ExecuteTime": {
     "end_time": "2023-07-13T15:41:56.826754Z",
     "start_time": "2023-07-13T15:41:56.818740Z"
    }
   }
  },
  {
   "cell_type": "code",
   "execution_count": 13,
   "outputs": [],
   "source": [
    "df.loc[en_us_filter, ['language']] = 'en'"
   ],
   "metadata": {
    "collapsed": false,
    "ExecuteTime": {
     "end_time": "2023-07-13T15:41:56.826929Z",
     "start_time": "2023-07-13T15:41:56.821533Z"
    }
   }
  },
  {
   "cell_type": "code",
   "execution_count": 14,
   "outputs": [
    {
     "data": {
      "text/plain": "Empty DataFrame\nColumns: [title, authors, description, language, categories, url, cover_image, publication_date, publishers, page_count, average_rating]\nIndex: []",
      "text/html": "<div>\n<style scoped>\n    .dataframe tbody tr th:only-of-type {\n        vertical-align: middle;\n    }\n\n    .dataframe tbody tr th {\n        vertical-align: top;\n    }\n\n    .dataframe thead th {\n        text-align: right;\n    }\n</style>\n<table border=\"1\" class=\"dataframe\">\n  <thead>\n    <tr style=\"text-align: right;\">\n      <th></th>\n      <th>title</th>\n      <th>authors</th>\n      <th>description</th>\n      <th>language</th>\n      <th>categories</th>\n      <th>url</th>\n      <th>cover_image</th>\n      <th>publication_date</th>\n      <th>publishers</th>\n      <th>page_count</th>\n      <th>average_rating</th>\n    </tr>\n    <tr>\n      <th>product_id</th>\n      <th></th>\n      <th></th>\n      <th></th>\n      <th></th>\n      <th></th>\n      <th></th>\n      <th></th>\n      <th></th>\n      <th></th>\n      <th></th>\n      <th></th>\n    </tr>\n  </thead>\n  <tbody>\n  </tbody>\n</table>\n</div>"
     },
     "execution_count": 14,
     "metadata": {},
     "output_type": "execute_result"
    }
   ],
   "source": [
    "df.loc[df['language'] == 'en-us']"
   ],
   "metadata": {
    "collapsed": false,
    "ExecuteTime": {
     "end_time": "2023-07-13T15:41:56.834833Z",
     "start_time": "2023-07-13T15:41:56.825883Z"
    }
   }
  },
  {
   "cell_type": "code",
   "execution_count": 15,
   "outputs": [
    {
     "data": {
      "text/plain": "Empty DataFrame\nColumns: [title, authors, description, language, categories, url, cover_image, publication_date, publishers, page_count, average_rating]\nIndex: []",
      "text/html": "<div>\n<style scoped>\n    .dataframe tbody tr th:only-of-type {\n        vertical-align: middle;\n    }\n\n    .dataframe tbody tr th {\n        vertical-align: top;\n    }\n\n    .dataframe thead th {\n        text-align: right;\n    }\n</style>\n<table border=\"1\" class=\"dataframe\">\n  <thead>\n    <tr style=\"text-align: right;\">\n      <th></th>\n      <th>title</th>\n      <th>authors</th>\n      <th>description</th>\n      <th>language</th>\n      <th>categories</th>\n      <th>url</th>\n      <th>cover_image</th>\n      <th>publication_date</th>\n      <th>publishers</th>\n      <th>page_count</th>\n      <th>average_rating</th>\n    </tr>\n    <tr>\n      <th>product_id</th>\n      <th></th>\n      <th></th>\n      <th></th>\n      <th></th>\n      <th></th>\n      <th></th>\n      <th></th>\n      <th></th>\n      <th></th>\n      <th></th>\n      <th></th>\n    </tr>\n  </thead>\n  <tbody>\n  </tbody>\n</table>\n</div>"
     },
     "execution_count": 15,
     "metadata": {},
     "output_type": "execute_result"
    }
   ],
   "source": [
    "df.loc[zh_or_pt_languages_filter]"
   ],
   "metadata": {
    "collapsed": false,
    "ExecuteTime": {
     "end_time": "2023-07-13T15:41:56.835075Z",
     "start_time": "2023-07-13T15:41:56.828552Z"
    }
   }
  },
  {
   "cell_type": "markdown",
   "source": [
    "Let's look at categories, each book has a list of categories, which is wrapped into another list. The first step is to reduce the nesting and later on to *explode* the list of categories.\n",
    "Each book will have one or more entries according to its amount of categories."
   ],
   "metadata": {
    "collapsed": false
   }
  },
  {
   "cell_type": "code",
   "execution_count": 16,
   "outputs": [
    {
     "data": {
      "text/plain": "product_id\n9781633438774                   [[Data, Enterprise Data Strategy]]\n9781804610879    [[Software Development, Programming Languages,...\n9781803230085    [[Software Development, Software Architecture,...\n9780138254919    [[IT Operations, Computer Networking, Network ...\n9781835080399    [[IT Operations, IT Certifications, Cisco Cert...\n                                       ...                        \n9781491922996    [[IT Operations, DevOps, Configuration Managem...\n9780134122885    [[Software Development, Programming Languages,...\n9781449342562    [[IT Operations, Cloud Computing, Cloud Platfo...\n9781449335007                  [[Design, Design Process, Lean UX]]\n9780596529963    [[Business, Sales & Marketing, Marketing, Soci...\nName: categories, Length: 5510, dtype: object"
     },
     "execution_count": 16,
     "metadata": {},
     "output_type": "execute_result"
    }
   ],
   "source": [
    "df['categories']"
   ],
   "metadata": {
    "collapsed": false,
    "ExecuteTime": {
     "end_time": "2023-07-13T15:41:56.881704Z",
     "start_time": "2023-07-13T15:41:56.834085Z"
    }
   }
  },
  {
   "cell_type": "code",
   "execution_count": 17,
   "outputs": [],
   "source": [
    "df['categories'] = df['categories'].apply(lambda x: x[0])"
   ],
   "metadata": {
    "collapsed": false,
    "ExecuteTime": {
     "end_time": "2023-07-13T15:41:56.881931Z",
     "start_time": "2023-07-13T15:41:56.837661Z"
    }
   }
  },
  {
   "cell_type": "code",
   "execution_count": 18,
   "outputs": [
    {
     "data": {
      "text/plain": "product_id\n9781633438774                     [Data, Enterprise Data Strategy]\n9781804610879    [Software Development, Programming Languages, ...\n9781803230085    [Software Development, Software Architecture, ...\n9780138254919    [IT Operations, Computer Networking, Network A...\n9781835080399    [IT Operations, IT Certifications, Cisco Certi...\n9781098110581       [Design, Product Design, User Experience (UX)]\n9781804615690    [Business, Business Strategy, Business Archite...\n9781801812542    [Software Development, Programming Languages, ...\n9781800569386    [Math, Science, Engineering, Engineering, Mech...\n9781801812399    [IT Operations, Cloud Computing, Cloud Platfor...\nName: categories, dtype: object"
     },
     "execution_count": 18,
     "metadata": {},
     "output_type": "execute_result"
    }
   ],
   "source": [
    "df['categories'].head(10)"
   ],
   "metadata": {
    "collapsed": false,
    "ExecuteTime": {
     "end_time": "2023-07-13T15:41:56.882278Z",
     "start_time": "2023-07-13T15:41:56.840757Z"
    }
   }
  },
  {
   "cell_type": "code",
   "execution_count": 19,
   "outputs": [],
   "source": [
    "df['categories'] = df['categories'].apply(lambda x: [elem.strip() for elem in x])"
   ],
   "metadata": {
    "collapsed": false,
    "ExecuteTime": {
     "end_time": "2023-07-13T15:41:56.882368Z",
     "start_time": "2023-07-13T15:41:56.843173Z"
    }
   }
  },
  {
   "cell_type": "code",
   "execution_count": 20,
   "outputs": [],
   "source": [
    "df = df.explode('categories')"
   ],
   "metadata": {
    "collapsed": false,
    "ExecuteTime": {
     "end_time": "2023-07-13T15:41:56.923731Z",
     "start_time": "2023-07-13T15:41:56.847521Z"
    }
   }
  },
  {
   "cell_type": "markdown",
   "source": [
    "Rename categories column:"
   ],
   "metadata": {
    "collapsed": false
   }
  },
  {
   "cell_type": "code",
   "execution_count": 21,
   "outputs": [],
   "source": [
    "df.rename(columns={'categories': 'category'}, inplace=True)"
   ],
   "metadata": {
    "collapsed": false,
    "ExecuteTime": {
     "end_time": "2023-07-13T15:41:57.017005Z",
     "start_time": "2023-07-13T15:41:56.861052Z"
    }
   }
  },
  {
   "cell_type": "code",
   "execution_count": 22,
   "outputs": [
    {
     "data": {
      "text/plain": "                                                           title  \\\nproduct_id                                                         \n9781492031949        Navigating the Continuous Delivery Pipeline   \n9781492031888                 Product Design vs. Design Thinking   \n9781492033172                                      Python vs. Go   \n9781492033172                                      Python vs. Go   \n9781492037774                       Creating an Agile enterprise   \n...                                                          ...   \n9781484278697  Pro C# 10 with .NET 6: Foundational Principles...   \n9781484278697  Pro C# 10 with .NET 6: Foundational Principles...   \n9780137993857  OCP Oracle Certified Professional Java SE 17 D...   \n9780137993857  OCP Oracle Certified Professional Java SE 17 D...   \n9780137993857  OCP Oracle Certified Professional Java SE 17 D...   \n\n                           publishers               category  page_count  \nproduct_id                                                                \n9781492031949  [O'Reilly Media, Inc.]          IT Operations           1  \n9781492031888  [O'Reilly Media, Inc.]         Design Process           1  \n9781492033172  [O'Reilly Media, Inc.]  Programming Languages           1  \n9781492033172  [O'Reilly Media, Inc.]                     Go           1  \n9781492037774  [O'Reilly Media, Inc.]   Software Development           1  \n...                               ...                    ...         ...  \n9781484278697                [Apress]  Programming Languages        1680  \n9781484278697                [Apress]   Software Development        1680  \n9780137993857               [Pearson]   Software Development        1851  \n9780137993857               [Pearson]  Programming Languages        1851  \n9780137993857               [Pearson]                   Java        1851  \n\n[18600 rows x 4 columns]",
      "text/html": "<div>\n<style scoped>\n    .dataframe tbody tr th:only-of-type {\n        vertical-align: middle;\n    }\n\n    .dataframe tbody tr th {\n        vertical-align: top;\n    }\n\n    .dataframe thead th {\n        text-align: right;\n    }\n</style>\n<table border=\"1\" class=\"dataframe\">\n  <thead>\n    <tr style=\"text-align: right;\">\n      <th></th>\n      <th>title</th>\n      <th>publishers</th>\n      <th>category</th>\n      <th>page_count</th>\n    </tr>\n    <tr>\n      <th>product_id</th>\n      <th></th>\n      <th></th>\n      <th></th>\n      <th></th>\n    </tr>\n  </thead>\n  <tbody>\n    <tr>\n      <th>9781492031949</th>\n      <td>Navigating the Continuous Delivery Pipeline</td>\n      <td>[O'Reilly Media, Inc.]</td>\n      <td>IT Operations</td>\n      <td>1</td>\n    </tr>\n    <tr>\n      <th>9781492031888</th>\n      <td>Product Design vs. Design Thinking</td>\n      <td>[O'Reilly Media, Inc.]</td>\n      <td>Design Process</td>\n      <td>1</td>\n    </tr>\n    <tr>\n      <th>9781492033172</th>\n      <td>Python vs. Go</td>\n      <td>[O'Reilly Media, Inc.]</td>\n      <td>Programming Languages</td>\n      <td>1</td>\n    </tr>\n    <tr>\n      <th>9781492033172</th>\n      <td>Python vs. Go</td>\n      <td>[O'Reilly Media, Inc.]</td>\n      <td>Go</td>\n      <td>1</td>\n    </tr>\n    <tr>\n      <th>9781492037774</th>\n      <td>Creating an Agile enterprise</td>\n      <td>[O'Reilly Media, Inc.]</td>\n      <td>Software Development</td>\n      <td>1</td>\n    </tr>\n    <tr>\n      <th>...</th>\n      <td>...</td>\n      <td>...</td>\n      <td>...</td>\n      <td>...</td>\n    </tr>\n    <tr>\n      <th>9781484278697</th>\n      <td>Pro C# 10 with .NET 6: Foundational Principles...</td>\n      <td>[Apress]</td>\n      <td>Programming Languages</td>\n      <td>1680</td>\n    </tr>\n    <tr>\n      <th>9781484278697</th>\n      <td>Pro C# 10 with .NET 6: Foundational Principles...</td>\n      <td>[Apress]</td>\n      <td>Software Development</td>\n      <td>1680</td>\n    </tr>\n    <tr>\n      <th>9780137993857</th>\n      <td>OCP Oracle Certified Professional Java SE 17 D...</td>\n      <td>[Pearson]</td>\n      <td>Software Development</td>\n      <td>1851</td>\n    </tr>\n    <tr>\n      <th>9780137993857</th>\n      <td>OCP Oracle Certified Professional Java SE 17 D...</td>\n      <td>[Pearson]</td>\n      <td>Programming Languages</td>\n      <td>1851</td>\n    </tr>\n    <tr>\n      <th>9780137993857</th>\n      <td>OCP Oracle Certified Professional Java SE 17 D...</td>\n      <td>[Pearson]</td>\n      <td>Java</td>\n      <td>1851</td>\n    </tr>\n  </tbody>\n</table>\n<p>18600 rows × 4 columns</p>\n</div>"
     },
     "execution_count": 22,
     "metadata": {},
     "output_type": "execute_result"
    }
   ],
   "source": [
    "df[['title', 'publishers', 'category', 'page_count']].sort_values(by='page_count')"
   ],
   "metadata": {
    "collapsed": false,
    "ExecuteTime": {
     "end_time": "2023-07-13T15:41:57.062655Z",
     "start_time": "2023-07-13T15:41:56.864487Z"
    }
   }
  },
  {
   "cell_type": "markdown",
   "source": [
    "Books with low page count in our dataset are usually OReilly Reports or Infographics like the ones showed below:\n",
    "\n",
    "![Radar example](cover_images/9781098145729.jpeg) &nbsp;&nbsp; ![Cloud Adoption for Mission-Critical Workloads](cover_images/9781098146658.jpeg) &nbsp;&nbsp;  ![Navigating the Continuous Delivery Pipeline](cover_images/9781492031949.jpeg) &nbsp;&nbsp; ![How to Choose a Cloud Provider](cover_images/9781492032908.jpeg)\n",
    "\n",
    "We need to filter them out, because we want to compare publishers on **real books** :-)\n",
    "\n",
    "We will use the following strategies:\n",
    "\n",
    "1. Radar is sometimes used as a book category\n",
    "2. We can check data distribution for page count and remove *outliers* on the low page count side (way below Q1)\n",
    "3. We can check the book cover image (looking for Report or Infographic strings)\n",
    "\n",
    "We will also take advantage of the fact that O'Reilly is the only publisher of these reports."
   ],
   "metadata": {
    "collapsed": false
   }
  },
  {
   "cell_type": "markdown",
   "source": [
    "## 1. Radar as a book category"
   ],
   "metadata": {
    "collapsed": false
   }
  },
  {
   "cell_type": "code",
   "execution_count": 23,
   "outputs": [],
   "source": [
    "report_category_filter = df['category'] == 'Radar'"
   ],
   "metadata": {
    "collapsed": false,
    "ExecuteTime": {
     "end_time": "2023-07-13T15:41:57.062960Z",
     "start_time": "2023-07-13T15:41:56.872584Z"
    }
   }
  },
  {
   "cell_type": "code",
   "execution_count": 24,
   "outputs": [
    {
     "data": {
      "text/plain": "                                               title          authors  \\\nproduct_id                                                              \n9781098156527       Radar Trends to Watch: June 2023  [Mike Loukides]   \n9781098153915        Radar Trends to Watch: May 2023  [Mike Loukides]   \n9781098152895      Radar Trends to Watch: April 2023  [Mike Loukides]   \n9781098151430      Radar Trends to Watch: March 2023  [Mike Loukides]   \n9781098149277   Radar Trends to Watch: February 2023  [Mike Loukides]   \n9781098148010    Radar Trends to Watch: January 2023  [Mike Loukides]   \n9781098146993   Radar Trends to Watch: December 2022  [Mike Loukides]   \n9781098145729   Radar Trends to Watch: November 2022  [Mike Loukides]   \n9781098144913    Radar Trends to Watch: October 2022  [Mike Loukides]   \n9781098143510  Radar Trends to Watch: September 2022  [Mike Loukides]   \n9781098140571     Radar Trends to Watch: August 2022  [Mike Loukides]   \n9781098134518      Radar Trends to Watch: April 2022  [Mike Loukides]   \n9781492099901   Radar Trends to Watch: February 2022  [Mike Loukides]   \n9781098133160      Radar trends to watch: March 2022  [Mike Loukides]   \n9781098137717       Radar Trends to Watch: June 2022  [Mike Loukides]   \n9781098135430        Radar Trends to Watch: May 2022  [Mike Loukides]   \n9781098138974       Radar Trends to Watch: July 2022  [Mike Loukides]   \n9781492099833    Radar Trends to Watch: January 2022  [Mike Loukides]   \n\n                                                     description language  \\\nproduct_id                                                                  \n9781098156527  Read about the latest developments on O'Reilly...       en   \n9781098153915  Read about the latest developments on O'Reilly...       en   \n9781098152895  Read about the latest developments on O'Reilly...       en   \n9781098151430  Read about the latest developments on O'Reilly...       en   \n9781098149277  Read about the latest developments on O'Reilly...       en   \n9781098148010  Read about the latest developments on O'Reilly...       en   \n9781098146993  Read about the latest developments on O'Reilly...       en   \n9781098145729  Read about the latest developments on O'Reilly...       en   \n9781098144913  Read about the latest developments on O'Reilly...       en   \n9781098143510  Read about the latest developments on O'Reilly...       en   \n9781098140571  Read about the latest developments on O'Reilly...       en   \n9781098134518  Read about the latest developments on O'Reilly...       en   \n9781492099901  Read about the latest developments on O'Reilly...       en   \n9781098133160  Read about the latest developments on O'Reilly...       en   \n9781098137717  Read about the latest developments on O'Reilly...       en   \n9781098135430  Read about the latest developments on O'Reilly...       en   \n9781098138974  Read about the latest developments on O'Reilly...       en   \n9781492099833  Read about the latest developments on O'Reilly...       en   \n\n              category                                                url  \\\nproduct_id                                                                  \n9781098156527    Radar  https://learning.oreilly.com/library/view/-/97...   \n9781098153915    Radar  https://learning.oreilly.com/library/view/-/97...   \n9781098152895    Radar  https://learning.oreilly.com/library/view/-/97...   \n9781098151430    Radar  https://learning.oreilly.com/library/view/-/97...   \n9781098149277    Radar  https://learning.oreilly.com/library/view/-/97...   \n9781098148010    Radar  https://learning.oreilly.com/library/view/-/97...   \n9781098146993    Radar  https://learning.oreilly.com/library/view/-/97...   \n9781098145729    Radar  https://learning.oreilly.com/library/view/-/97...   \n9781098144913    Radar  https://learning.oreilly.com/library/view/-/97...   \n9781098143510    Radar  https://learning.oreilly.com/library/view/-/97...   \n9781098140571    Radar  https://learning.oreilly.com/library/view/-/97...   \n9781098134518    Radar  https://learning.oreilly.com/library/view/-/97...   \n9781492099901    Radar  https://learning.oreilly.com/library/view/-/97...   \n9781098133160    Radar  https://learning.oreilly.com/library/view/-/97...   \n9781098137717    Radar  https://learning.oreilly.com/library/view/-/97...   \n9781098135430    Radar  https://learning.oreilly.com/library/view/-/97...   \n9781098138974    Radar  https://learning.oreilly.com/library/view/-/97...   \n9781492099833    Radar  https://learning.oreilly.com/library/view/-/97...   \n\n                                                     cover_image  \\\nproduct_id                                                         \n9781098156527  https://learning.oreilly.com/library/cover/978...   \n9781098153915  https://learning.oreilly.com/library/cover/978...   \n9781098152895  https://learning.oreilly.com/library/cover/978...   \n9781098151430  https://learning.oreilly.com/library/cover/978...   \n9781098149277  https://learning.oreilly.com/library/cover/978...   \n9781098148010  https://learning.oreilly.com/library/cover/978...   \n9781098146993  https://learning.oreilly.com/library/cover/978...   \n9781098145729  https://learning.oreilly.com/library/cover/978...   \n9781098144913  https://learning.oreilly.com/library/cover/978...   \n9781098143510  https://learning.oreilly.com/library/cover/978...   \n9781098140571  https://learning.oreilly.com/library/cover/978...   \n9781098134518  https://learning.oreilly.com/library/cover/978...   \n9781492099901  https://learning.oreilly.com/library/cover/978...   \n9781098133160  https://learning.oreilly.com/library/cover/978...   \n9781098137717  https://learning.oreilly.com/library/cover/978...   \n9781098135430  https://learning.oreilly.com/library/cover/978...   \n9781098138974  https://learning.oreilly.com/library/cover/978...   \n9781492099833  https://learning.oreilly.com/library/cover/978...   \n\n              publication_date              publishers  page_count  \\\nproduct_id                                                           \n9781098156527       2023-06-13  [O'Reilly Media, Inc.]          10   \n9781098153915       2023-05-09  [O'Reilly Media, Inc.]          10   \n9781098152895       2023-04-05  [O'Reilly Media, Inc.]          10   \n9781098151430       2023-03-07  [O'Reilly Media, Inc.]          10   \n9781098149277       2023-02-07  [O'Reilly Media, Inc.]          10   \n9781098148010       2023-01-06  [O'Reilly Media, Inc.]          10   \n9781098146993       2022-12-06  [O'Reilly Media, Inc.]          10   \n9781098145729       2022-11-08  [O'Reilly Media, Inc.]          10   \n9781098144913       2022-10-11  [O'Reilly Media, Inc.]          10   \n9781098143510       2022-09-13  [O'Reilly Media, Inc.]          10   \n9781098140571       2022-08-02  [O'Reilly Media, Inc.]          10   \n9781098134518       2022-07-12  [O'Reilly Media, Inc.]          25   \n9781492099901       2022-07-11  [O'Reilly Media, Inc.]          25   \n9781098133160       2022-07-12  [O'Reilly Media, Inc.]          25   \n9781098137717       2022-07-11  [O'Reilly Media, Inc.]          25   \n9781098135430       2022-07-11  [O'Reilly Media, Inc.]          25   \n9781098138974       2022-07-11  [O'Reilly Media, Inc.]          25   \n9781492099833       2022-07-11  [O'Reilly Media, Inc.]          10   \n\n               average_rating  \nproduct_id                     \n9781098156527             5.0  \n9781098153915             5.0  \n9781098152895             NaN  \n9781098151430             NaN  \n9781098149277             NaN  \n9781098148010             NaN  \n9781098146993             5.0  \n9781098145729             NaN  \n9781098144913             NaN  \n9781098143510             NaN  \n9781098140571             NaN  \n9781098134518             NaN  \n9781492099901             NaN  \n9781098133160             NaN  \n9781098137717             NaN  \n9781098135430             NaN  \n9781098138974             5.0  \n9781492099833             NaN  ",
      "text/html": "<div>\n<style scoped>\n    .dataframe tbody tr th:only-of-type {\n        vertical-align: middle;\n    }\n\n    .dataframe tbody tr th {\n        vertical-align: top;\n    }\n\n    .dataframe thead th {\n        text-align: right;\n    }\n</style>\n<table border=\"1\" class=\"dataframe\">\n  <thead>\n    <tr style=\"text-align: right;\">\n      <th></th>\n      <th>title</th>\n      <th>authors</th>\n      <th>description</th>\n      <th>language</th>\n      <th>category</th>\n      <th>url</th>\n      <th>cover_image</th>\n      <th>publication_date</th>\n      <th>publishers</th>\n      <th>page_count</th>\n      <th>average_rating</th>\n    </tr>\n    <tr>\n      <th>product_id</th>\n      <th></th>\n      <th></th>\n      <th></th>\n      <th></th>\n      <th></th>\n      <th></th>\n      <th></th>\n      <th></th>\n      <th></th>\n      <th></th>\n      <th></th>\n    </tr>\n  </thead>\n  <tbody>\n    <tr>\n      <th>9781098156527</th>\n      <td>Radar Trends to Watch: June 2023</td>\n      <td>[Mike Loukides]</td>\n      <td>Read about the latest developments on O'Reilly...</td>\n      <td>en</td>\n      <td>Radar</td>\n      <td>https://learning.oreilly.com/library/view/-/97...</td>\n      <td>https://learning.oreilly.com/library/cover/978...</td>\n      <td>2023-06-13</td>\n      <td>[O'Reilly Media, Inc.]</td>\n      <td>10</td>\n      <td>5.0</td>\n    </tr>\n    <tr>\n      <th>9781098153915</th>\n      <td>Radar Trends to Watch: May 2023</td>\n      <td>[Mike Loukides]</td>\n      <td>Read about the latest developments on O'Reilly...</td>\n      <td>en</td>\n      <td>Radar</td>\n      <td>https://learning.oreilly.com/library/view/-/97...</td>\n      <td>https://learning.oreilly.com/library/cover/978...</td>\n      <td>2023-05-09</td>\n      <td>[O'Reilly Media, Inc.]</td>\n      <td>10</td>\n      <td>5.0</td>\n    </tr>\n    <tr>\n      <th>9781098152895</th>\n      <td>Radar Trends to Watch: April 2023</td>\n      <td>[Mike Loukides]</td>\n      <td>Read about the latest developments on O'Reilly...</td>\n      <td>en</td>\n      <td>Radar</td>\n      <td>https://learning.oreilly.com/library/view/-/97...</td>\n      <td>https://learning.oreilly.com/library/cover/978...</td>\n      <td>2023-04-05</td>\n      <td>[O'Reilly Media, Inc.]</td>\n      <td>10</td>\n      <td>NaN</td>\n    </tr>\n    <tr>\n      <th>9781098151430</th>\n      <td>Radar Trends to Watch: March 2023</td>\n      <td>[Mike Loukides]</td>\n      <td>Read about the latest developments on O'Reilly...</td>\n      <td>en</td>\n      <td>Radar</td>\n      <td>https://learning.oreilly.com/library/view/-/97...</td>\n      <td>https://learning.oreilly.com/library/cover/978...</td>\n      <td>2023-03-07</td>\n      <td>[O'Reilly Media, Inc.]</td>\n      <td>10</td>\n      <td>NaN</td>\n    </tr>\n    <tr>\n      <th>9781098149277</th>\n      <td>Radar Trends to Watch: February 2023</td>\n      <td>[Mike Loukides]</td>\n      <td>Read about the latest developments on O'Reilly...</td>\n      <td>en</td>\n      <td>Radar</td>\n      <td>https://learning.oreilly.com/library/view/-/97...</td>\n      <td>https://learning.oreilly.com/library/cover/978...</td>\n      <td>2023-02-07</td>\n      <td>[O'Reilly Media, Inc.]</td>\n      <td>10</td>\n      <td>NaN</td>\n    </tr>\n    <tr>\n      <th>9781098148010</th>\n      <td>Radar Trends to Watch: January 2023</td>\n      <td>[Mike Loukides]</td>\n      <td>Read about the latest developments on O'Reilly...</td>\n      <td>en</td>\n      <td>Radar</td>\n      <td>https://learning.oreilly.com/library/view/-/97...</td>\n      <td>https://learning.oreilly.com/library/cover/978...</td>\n      <td>2023-01-06</td>\n      <td>[O'Reilly Media, Inc.]</td>\n      <td>10</td>\n      <td>NaN</td>\n    </tr>\n    <tr>\n      <th>9781098146993</th>\n      <td>Radar Trends to Watch: December 2022</td>\n      <td>[Mike Loukides]</td>\n      <td>Read about the latest developments on O'Reilly...</td>\n      <td>en</td>\n      <td>Radar</td>\n      <td>https://learning.oreilly.com/library/view/-/97...</td>\n      <td>https://learning.oreilly.com/library/cover/978...</td>\n      <td>2022-12-06</td>\n      <td>[O'Reilly Media, Inc.]</td>\n      <td>10</td>\n      <td>5.0</td>\n    </tr>\n    <tr>\n      <th>9781098145729</th>\n      <td>Radar Trends to Watch: November 2022</td>\n      <td>[Mike Loukides]</td>\n      <td>Read about the latest developments on O'Reilly...</td>\n      <td>en</td>\n      <td>Radar</td>\n      <td>https://learning.oreilly.com/library/view/-/97...</td>\n      <td>https://learning.oreilly.com/library/cover/978...</td>\n      <td>2022-11-08</td>\n      <td>[O'Reilly Media, Inc.]</td>\n      <td>10</td>\n      <td>NaN</td>\n    </tr>\n    <tr>\n      <th>9781098144913</th>\n      <td>Radar Trends to Watch: October 2022</td>\n      <td>[Mike Loukides]</td>\n      <td>Read about the latest developments on O'Reilly...</td>\n      <td>en</td>\n      <td>Radar</td>\n      <td>https://learning.oreilly.com/library/view/-/97...</td>\n      <td>https://learning.oreilly.com/library/cover/978...</td>\n      <td>2022-10-11</td>\n      <td>[O'Reilly Media, Inc.]</td>\n      <td>10</td>\n      <td>NaN</td>\n    </tr>\n    <tr>\n      <th>9781098143510</th>\n      <td>Radar Trends to Watch: September 2022</td>\n      <td>[Mike Loukides]</td>\n      <td>Read about the latest developments on O'Reilly...</td>\n      <td>en</td>\n      <td>Radar</td>\n      <td>https://learning.oreilly.com/library/view/-/97...</td>\n      <td>https://learning.oreilly.com/library/cover/978...</td>\n      <td>2022-09-13</td>\n      <td>[O'Reilly Media, Inc.]</td>\n      <td>10</td>\n      <td>NaN</td>\n    </tr>\n    <tr>\n      <th>9781098140571</th>\n      <td>Radar Trends to Watch: August 2022</td>\n      <td>[Mike Loukides]</td>\n      <td>Read about the latest developments on O'Reilly...</td>\n      <td>en</td>\n      <td>Radar</td>\n      <td>https://learning.oreilly.com/library/view/-/97...</td>\n      <td>https://learning.oreilly.com/library/cover/978...</td>\n      <td>2022-08-02</td>\n      <td>[O'Reilly Media, Inc.]</td>\n      <td>10</td>\n      <td>NaN</td>\n    </tr>\n    <tr>\n      <th>9781098134518</th>\n      <td>Radar Trends to Watch: April 2022</td>\n      <td>[Mike Loukides]</td>\n      <td>Read about the latest developments on O'Reilly...</td>\n      <td>en</td>\n      <td>Radar</td>\n      <td>https://learning.oreilly.com/library/view/-/97...</td>\n      <td>https://learning.oreilly.com/library/cover/978...</td>\n      <td>2022-07-12</td>\n      <td>[O'Reilly Media, Inc.]</td>\n      <td>25</td>\n      <td>NaN</td>\n    </tr>\n    <tr>\n      <th>9781492099901</th>\n      <td>Radar Trends to Watch: February 2022</td>\n      <td>[Mike Loukides]</td>\n      <td>Read about the latest developments on O'Reilly...</td>\n      <td>en</td>\n      <td>Radar</td>\n      <td>https://learning.oreilly.com/library/view/-/97...</td>\n      <td>https://learning.oreilly.com/library/cover/978...</td>\n      <td>2022-07-11</td>\n      <td>[O'Reilly Media, Inc.]</td>\n      <td>25</td>\n      <td>NaN</td>\n    </tr>\n    <tr>\n      <th>9781098133160</th>\n      <td>Radar trends to watch: March 2022</td>\n      <td>[Mike Loukides]</td>\n      <td>Read about the latest developments on O'Reilly...</td>\n      <td>en</td>\n      <td>Radar</td>\n      <td>https://learning.oreilly.com/library/view/-/97...</td>\n      <td>https://learning.oreilly.com/library/cover/978...</td>\n      <td>2022-07-12</td>\n      <td>[O'Reilly Media, Inc.]</td>\n      <td>25</td>\n      <td>NaN</td>\n    </tr>\n    <tr>\n      <th>9781098137717</th>\n      <td>Radar Trends to Watch: June 2022</td>\n      <td>[Mike Loukides]</td>\n      <td>Read about the latest developments on O'Reilly...</td>\n      <td>en</td>\n      <td>Radar</td>\n      <td>https://learning.oreilly.com/library/view/-/97...</td>\n      <td>https://learning.oreilly.com/library/cover/978...</td>\n      <td>2022-07-11</td>\n      <td>[O'Reilly Media, Inc.]</td>\n      <td>25</td>\n      <td>NaN</td>\n    </tr>\n    <tr>\n      <th>9781098135430</th>\n      <td>Radar Trends to Watch: May 2022</td>\n      <td>[Mike Loukides]</td>\n      <td>Read about the latest developments on O'Reilly...</td>\n      <td>en</td>\n      <td>Radar</td>\n      <td>https://learning.oreilly.com/library/view/-/97...</td>\n      <td>https://learning.oreilly.com/library/cover/978...</td>\n      <td>2022-07-11</td>\n      <td>[O'Reilly Media, Inc.]</td>\n      <td>25</td>\n      <td>NaN</td>\n    </tr>\n    <tr>\n      <th>9781098138974</th>\n      <td>Radar Trends to Watch: July 2022</td>\n      <td>[Mike Loukides]</td>\n      <td>Read about the latest developments on O'Reilly...</td>\n      <td>en</td>\n      <td>Radar</td>\n      <td>https://learning.oreilly.com/library/view/-/97...</td>\n      <td>https://learning.oreilly.com/library/cover/978...</td>\n      <td>2022-07-11</td>\n      <td>[O'Reilly Media, Inc.]</td>\n      <td>25</td>\n      <td>5.0</td>\n    </tr>\n    <tr>\n      <th>9781492099833</th>\n      <td>Radar Trends to Watch: January 2022</td>\n      <td>[Mike Loukides]</td>\n      <td>Read about the latest developments on O'Reilly...</td>\n      <td>en</td>\n      <td>Radar</td>\n      <td>https://learning.oreilly.com/library/view/-/97...</td>\n      <td>https://learning.oreilly.com/library/cover/978...</td>\n      <td>2022-07-11</td>\n      <td>[O'Reilly Media, Inc.]</td>\n      <td>10</td>\n      <td>NaN</td>\n    </tr>\n  </tbody>\n</table>\n</div>"
     },
     "execution_count": 24,
     "metadata": {},
     "output_type": "execute_result"
    }
   ],
   "source": [
    "df[report_category_filter]"
   ],
   "metadata": {
    "collapsed": false,
    "ExecuteTime": {
     "end_time": "2023-07-13T15:41:57.063285Z",
     "start_time": "2023-07-13T15:41:56.874760Z"
    }
   }
  },
  {
   "cell_type": "code",
   "execution_count": 25,
   "outputs": [],
   "source": [
    "radar_books_index = df[report_category_filter].index"
   ],
   "metadata": {
    "collapsed": false,
    "ExecuteTime": {
     "end_time": "2023-07-13T15:41:57.080546Z",
     "start_time": "2023-07-13T15:41:56.884077Z"
    }
   }
  },
  {
   "cell_type": "code",
   "execution_count": 26,
   "outputs": [],
   "source": [
    "df.drop(index=radar_books_index, inplace=True)"
   ],
   "metadata": {
    "collapsed": false,
    "ExecuteTime": {
     "end_time": "2023-07-13T15:41:57.199705Z",
     "start_time": "2023-07-13T15:41:56.888734Z"
    }
   }
  },
  {
   "cell_type": "code",
   "execution_count": 27,
   "outputs": [
    {
     "name": "stdout",
     "output_type": "stream",
     "text": [
      "Book count: 5492\n"
     ]
    }
   ],
   "source": [
    "print(f'Book count: {len(df.index.drop_duplicates())}')"
   ],
   "metadata": {
    "collapsed": false,
    "ExecuteTime": {
     "end_time": "2023-07-13T15:41:57.200008Z",
     "start_time": "2023-07-13T15:41:56.893565Z"
    }
   }
  },
  {
   "cell_type": "markdown",
   "source": [
    "## 2. Remove outliers (Page count)"
   ],
   "metadata": {
    "collapsed": false
   }
  },
  {
   "cell_type": "code",
   "execution_count": 28,
   "outputs": [],
   "source": [
    "def describe_with_num_bins(series: pd.Series):\n",
    "    \"\"\"\n",
    "    Calculate number of bins using Freedman Diaconis formula\n",
    "    https://en.wikipedia.org/wiki/Freedman%E2%80%93Diaconis_rule\n",
    "    \"\"\"\n",
    "    q1 = series.quantile(0.25)\n",
    "    q3 = series.quantile(0.75)\n",
    "    iqr = q3 - q1\n",
    "    fd_formula_bin_width = 2 * iqr / np.power(len(series), 1/3)\n",
    "    num_bins = (series.max() - series.min()) / fd_formula_bin_width\n",
    "    return q1, q3, iqr, round(num_bins)"
   ],
   "metadata": {
    "collapsed": false,
    "ExecuteTime": {
     "end_time": "2023-07-13T15:41:57.200129Z",
     "start_time": "2023-07-13T15:41:56.896857Z"
    }
   }
  },
  {
   "cell_type": "code",
   "execution_count": 29,
   "outputs": [],
   "source": [
    "page_count_series = df['page_count']"
   ],
   "metadata": {
    "collapsed": false,
    "ExecuteTime": {
     "end_time": "2023-07-13T15:41:57.224550Z",
     "start_time": "2023-07-13T15:41:56.898985Z"
    }
   }
  },
  {
   "cell_type": "code",
   "execution_count": 30,
   "outputs": [
    {
     "data": {
      "text/plain": "product_id\n9781633438774    192\n9781633438774    192\n9781804610879    346\n9781804610879    346\n9781804610879    346\n                ... \n9781449335007    233\n9780596529963    265\n9780596529963    265\n9780596529963    265\n9780596529963    265\nName: page_count, Length: 18546, dtype: int64"
     },
     "execution_count": 30,
     "metadata": {},
     "output_type": "execute_result"
    }
   ],
   "source": [
    "page_count_series"
   ],
   "metadata": {
    "collapsed": false,
    "ExecuteTime": {
     "end_time": "2023-07-13T15:41:57.292543Z",
     "start_time": "2023-07-13T15:41:56.901980Z"
    }
   }
  },
  {
   "cell_type": "code",
   "execution_count": 31,
   "outputs": [
    {
     "name": "stdout",
     "output_type": "stream",
     "text": [
      "248.0 472.0 224.0\n"
     ]
    }
   ],
   "source": [
    "s = df['page_count']\n",
    "q1, q3, iqr, num_bins = describe_with_num_bins(s)\n",
    "print(q1, q3, iqr)"
   ],
   "metadata": {
    "collapsed": false,
    "ExecuteTime": {
     "end_time": "2023-07-13T15:41:57.292800Z",
     "start_time": "2023-07-13T15:41:56.904627Z"
    }
   }
  },
  {
   "cell_type": "code",
   "execution_count": 32,
   "outputs": [
    {
     "data": {
      "text/plain": "<Axes: xlabel='page_count', ylabel='Count'>"
     },
     "execution_count": 32,
     "metadata": {},
     "output_type": "execute_result"
    },
    {
     "data": {
      "text/plain": "<Figure size 640x480 with 1 Axes>",
      "image/png": "[encoded data removed]"
     },
     "metadata": {},
     "output_type": "display_data"
    }
   ],
   "source": [
    "sns.histplot(data=df, x='page_count', bins=num_bins, kde=True)"
   ],
   "metadata": {
    "collapsed": false,
    "ExecuteTime": {
     "end_time": "2023-07-13T15:41:57.571370Z",
     "start_time": "2023-07-13T15:41:56.907943Z"
    }
   }
  },
  {
   "cell_type": "markdown",
   "source": [
    "The data distribution is skewed to the right, 50% of books have a page count between 248 and 472 (q1 and q3).\n",
    "On average each book has 375 pages. We are not worried outliers greater than q3, we still consider them *valid* books (although close to a weapon).\n",
    "We want to drop, outliers that are smaller than q1 that are similar to the *report* showed before, we will use the [IQR method](https://online.stat.psu.edu/stat200/lesson/3/3.2).\n",
    "We will create a *fence*:\n",
    "* fence = q1 - (1.5 * IQR)\n",
    "\n",
    "then we will check all books with page count smaller than fence."
   ],
   "metadata": {
    "collapsed": false
   }
  },
  {
   "cell_type": "markdown",
   "source": [
    "Let's check current skewness value:"
   ],
   "metadata": {
    "collapsed": false
   }
  },
  {
   "cell_type": "code",
   "execution_count": 33,
   "outputs": [
    {
     "data": {
      "text/plain": "0.9989517332187579"
     },
     "execution_count": 33,
     "metadata": {},
     "output_type": "execute_result"
    }
   ],
   "source": [
    "s.skew()"
   ],
   "metadata": {
    "collapsed": false,
    "ExecuteTime": {
     "end_time": "2023-07-13T15:41:57.571610Z",
     "start_time": "2023-07-13T15:41:57.264334Z"
    }
   }
  },
  {
   "cell_type": "markdown",
   "source": [
    "We need to reduce this right skewness before dropping some outliers, we will apply a square root transformation."
   ],
   "metadata": {
    "collapsed": false
   }
  },
  {
   "cell_type": "code",
   "execution_count": 34,
   "outputs": [],
   "source": [
    "df['normalized_page_count'] = np.sqrt(s)"
   ],
   "metadata": {
    "collapsed": false,
    "ExecuteTime": {
     "end_time": "2023-07-13T15:41:57.571675Z",
     "start_time": "2023-07-13T15:41:57.271638Z"
    }
   }
  },
  {
   "cell_type": "code",
   "execution_count": 35,
   "outputs": [
    {
     "data": {
      "text/plain": "-0.1976159899535718"
     },
     "execution_count": 35,
     "metadata": {},
     "output_type": "execute_result"
    }
   ],
   "source": [
    "df['normalized_page_count'].skew()"
   ],
   "metadata": {
    "collapsed": false,
    "ExecuteTime": {
     "end_time": "2023-07-13T15:41:57.571805Z",
     "start_time": "2023-07-13T15:41:57.274165Z"
    }
   }
  },
  {
   "cell_type": "code",
   "execution_count": 36,
   "outputs": [],
   "source": [
    "q1, q3, iqr, num_bins = describe_with_num_bins(df['normalized_page_count'])"
   ],
   "metadata": {
    "collapsed": false,
    "ExecuteTime": {
     "end_time": "2023-07-13T15:41:57.571861Z",
     "start_time": "2023-07-13T15:41:57.277350Z"
    }
   }
  },
  {
   "cell_type": "code",
   "execution_count": 37,
   "outputs": [
    {
     "data": {
      "text/plain": "<Axes: xlabel='normalized_page_count', ylabel='Count'>"
     },
     "execution_count": 37,
     "metadata": {},
     "output_type": "execute_result"
    },
    {
     "data": {
      "text/plain": "<Figure size 640x480 with 1 Axes>",
      "image/png": "[encoded data removed]"
     },
     "metadata": {},
     "output_type": "display_data"
    }
   ],
   "source": [
    "sns.histplot(data=df, x='normalized_page_count', bins=num_bins, kde=True)"
   ],
   "metadata": {
    "collapsed": false,
    "ExecuteTime": {
     "end_time": "2023-07-13T15:41:57.725271Z",
     "start_time": "2023-07-13T15:41:57.280235Z"
    }
   }
  },
  {
   "cell_type": "code",
   "execution_count": 38,
   "outputs": [],
   "source": [
    "fence = round(q1 - (1.5 * iqr))"
   ],
   "metadata": {
    "collapsed": false,
    "ExecuteTime": {
     "end_time": "2023-07-13T15:41:57.725450Z",
     "start_time": "2023-07-13T15:41:57.563172Z"
    }
   }
  },
  {
   "cell_type": "markdown",
   "source": [
    "We can drop from the dataset all the books with normalized_page_count less than 7.\n",
    "We need to fix publishers column, publishers is a list, we verify that each book has only one publisher."
   ],
   "metadata": {
    "collapsed": false
   }
  },
  {
   "cell_type": "code",
   "execution_count": 39,
   "outputs": [],
   "source": [
    "multiple_pub_per_book = df['publishers'].apply(len) > 1"
   ],
   "metadata": {
    "collapsed": false,
    "ExecuteTime": {
     "end_time": "2023-07-13T15:41:57.725539Z",
     "start_time": "2023-07-13T15:41:57.573857Z"
    }
   }
  },
  {
   "cell_type": "code",
   "execution_count": 40,
   "outputs": [
    {
     "data": {
      "text/plain": "Empty DataFrame\nColumns: [title, authors, description, language, category, url, cover_image, publication_date, publishers, page_count, average_rating, normalized_page_count]\nIndex: []",
      "text/html": "<div>\n<style scoped>\n    .dataframe tbody tr th:only-of-type {\n        vertical-align: middle;\n    }\n\n    .dataframe tbody tr th {\n        vertical-align: top;\n    }\n\n    .dataframe thead th {\n        text-align: right;\n    }\n</style>\n<table border=\"1\" class=\"dataframe\">\n  <thead>\n    <tr style=\"text-align: right;\">\n      <th></th>\n      <th>title</th>\n      <th>authors</th>\n      <th>description</th>\n      <th>language</th>\n      <th>category</th>\n      <th>url</th>\n      <th>cover_image</th>\n      <th>publication_date</th>\n      <th>publishers</th>\n      <th>page_count</th>\n      <th>average_rating</th>\n      <th>normalized_page_count</th>\n    </tr>\n    <tr>\n      <th>product_id</th>\n      <th></th>\n      <th></th>\n      <th></th>\n      <th></th>\n      <th></th>\n      <th></th>\n      <th></th>\n      <th></th>\n      <th></th>\n      <th></th>\n      <th></th>\n      <th></th>\n    </tr>\n  </thead>\n  <tbody>\n  </tbody>\n</table>\n</div>"
     },
     "execution_count": 40,
     "metadata": {},
     "output_type": "execute_result"
    }
   ],
   "source": [
    "df[multiple_pub_per_book]"
   ],
   "metadata": {
    "collapsed": false,
    "ExecuteTime": {
     "end_time": "2023-07-13T15:41:57.725757Z",
     "start_time": "2023-07-13T15:41:57.577781Z"
    }
   }
  },
  {
   "cell_type": "markdown",
   "source": [
    "It's safe to transform from list of strings to string value for publishers"
   ],
   "metadata": {
    "collapsed": false
   }
  },
  {
   "cell_type": "code",
   "execution_count": 41,
   "outputs": [],
   "source": [
    "df['publishers'] = df['publishers'].apply(lambda x: x[0])"
   ],
   "metadata": {
    "collapsed": false,
    "ExecuteTime": {
     "end_time": "2023-07-13T15:41:57.725982Z",
     "start_time": "2023-07-13T15:41:57.581204Z"
    }
   }
  },
  {
   "cell_type": "code",
   "execution_count": 42,
   "outputs": [],
   "source": [
    "df.rename(columns={'publishers': 'publisher'}, inplace=True)"
   ],
   "metadata": {
    "collapsed": false,
    "ExecuteTime": {
     "end_time": "2023-07-13T15:41:57.726375Z",
     "start_time": "2023-07-13T15:41:57.585333Z"
    }
   }
  },
  {
   "cell_type": "code",
   "execution_count": 43,
   "outputs": [],
   "source": [
    "filter_norm_page_count = (df['normalized_page_count'] < 7) & (df['publisher'] == \"O'Reilly Media, Inc.\")"
   ],
   "metadata": {
    "collapsed": false,
    "ExecuteTime": {
     "end_time": "2023-07-13T15:41:57.727061Z",
     "start_time": "2023-07-13T15:41:57.588850Z"
    }
   }
  },
  {
   "cell_type": "code",
   "execution_count": 44,
   "outputs": [
    {
     "data": {
      "text/plain": "                                                           title  \\\nproduct_id                                                         \n9781098146658                   What Is Trunk-Based Development?   \n9781098146306                                What Is Crossplane?   \n9781098146306                                What Is Crossplane?   \n9781098146306                                What Is Crossplane?   \n9781098146306                                What Is Crossplane?   \n...                                                          ...   \n9781492028017  Understanding Patterns of Enterprise Transform...   \n9781492028017  Understanding Patterns of Enterprise Transform...   \n9781492027980                      The Making of an Agile Leader   \n9781492027980                      The Making of an Agile Leader   \n9781492027980                      The Making of an Agile Leader   \n\n                                           authors  \\\nproduct_id                                           \n9781098146658                      [Clare Sudbery]   \n9781098146306                           [Nic Cope]   \n9781098146306                           [Nic Cope]   \n9781098146306                           [Nic Cope]   \n9781098146306                           [Nic Cope]   \n...                                            ...   \n9781492028017  [Helen Williams, Jeremy Sutherland]   \n9781492028017  [Helen Williams, Jeremy Sutherland]   \n9781492027980                          [Jean Dahl]   \n9781492027980                          [Jean Dahl]   \n9781492027980                          [Jean Dahl]   \n\n                                                     description language  \\\nproduct_id                                                                  \n9781098146658  Software development often goes wrong. Very wr...       en   \n9781098146306  Control planes provide an increasingly popular...       en   \n9781098146306  Control planes provide an increasingly popular...       en   \n9781098146306  Control planes provide an increasingly popular...       en   \n9781098146306  Control planes provide an increasingly popular...       en   \n...                                                          ...      ...   \n9781492028017  Although companies \"going digital\" has capture...       en   \n9781492028017  Although companies \"going digital\" has capture...       en   \n9781492027980  Going digital is essential for companies looki...       en   \n9781492027980  Going digital is essential for companies looki...       en   \n9781492027980  Going digital is essential for companies looki...       en   \n\n                              category  \\\nproduct_id                               \n9781098146658     Software Development   \n9781098146306            IT Operations   \n9781098146306           Virtualization   \n9781098146306               Containers   \n9781098146306  Container Orchestrators   \n...                                ...   \n9781492028017        Business Strategy   \n9781492028017   Digital Transformation   \n9781492027980     Software Development   \n9781492027980   Software Collaboration   \n9781492027980                    Agile   \n\n                                                             url  \\\nproduct_id                                                         \n9781098146658  https://learning.oreilly.com/library/view/-/97...   \n9781098146306  https://learning.oreilly.com/library/view/-/97...   \n9781098146306  https://learning.oreilly.com/library/view/-/97...   \n9781098146306  https://learning.oreilly.com/library/view/-/97...   \n9781098146306  https://learning.oreilly.com/library/view/-/97...   \n...                                                          ...   \n9781492028017  https://learning.oreilly.com/library/view/-/97...   \n9781492028017  https://learning.oreilly.com/library/view/-/97...   \n9781492027980  https://learning.oreilly.com/library/view/-/97...   \n9781492027980  https://learning.oreilly.com/library/view/-/97...   \n9781492027980  https://learning.oreilly.com/library/view/-/97...   \n\n                                                     cover_image  \\\nproduct_id                                                         \n9781098146658  https://learning.oreilly.com/library/cover/978...   \n9781098146306  https://learning.oreilly.com/library/cover/978...   \n9781098146306  https://learning.oreilly.com/library/cover/978...   \n9781098146306  https://learning.oreilly.com/library/cover/978...   \n9781098146306  https://learning.oreilly.com/library/cover/978...   \n...                                                          ...   \n9781492028017  https://learning.oreilly.com/library/cover/978...   \n9781492028017  https://learning.oreilly.com/library/cover/978...   \n9781492027980  https://learning.oreilly.com/library/cover/978...   \n9781492027980  https://learning.oreilly.com/library/cover/978...   \n9781492027980  https://learning.oreilly.com/library/cover/978...   \n\n              publication_date             publisher  page_count  \\\nproduct_id                                                         \n9781098146658       2023-06-25  O'Reilly Media, Inc.          47   \n9781098146306       2023-05-25  O'Reilly Media, Inc.          30   \n9781098146306       2023-05-25  O'Reilly Media, Inc.          30   \n9781098146306       2023-05-25  O'Reilly Media, Inc.          30   \n9781098146306       2023-05-25  O'Reilly Media, Inc.          30   \n...                        ...                   ...         ...   \n9781492028017       2018-01-15  O'Reilly Media, Inc.          39   \n9781492028017       2018-01-15  O'Reilly Media, Inc.          39   \n9781492027980       2018-01-15  O'Reilly Media, Inc.          47   \n9781492027980       2018-01-15  O'Reilly Media, Inc.          47   \n9781492027980       2018-01-15  O'Reilly Media, Inc.          47   \n\n               average_rating  normalized_page_count  \nproduct_id                                            \n9781098146658             NaN               6.855655  \n9781098146306             NaN               5.477226  \n9781098146306             NaN               5.477226  \n9781098146306             NaN               5.477226  \n9781098146306             NaN               5.477226  \n...                       ...                    ...  \n9781492028017             5.0               6.244998  \n9781492028017             5.0               6.244998  \n9781492027980             NaN               6.855655  \n9781492027980             NaN               6.855655  \n9781492027980             NaN               6.855655  \n\n[743 rows x 12 columns]",
      "text/html": "<div>\n<style scoped>\n    .dataframe tbody tr th:only-of-type {\n        vertical-align: middle;\n    }\n\n    .dataframe tbody tr th {\n        vertical-align: top;\n    }\n\n    .dataframe thead th {\n        text-align: right;\n    }\n</style>\n<table border=\"1\" class=\"dataframe\">\n  <thead>\n    <tr style=\"text-align: right;\">\n      <th></th>\n      <th>title</th>\n      <th>authors</th>\n      <th>description</th>\n      <th>language</th>\n      <th>category</th>\n      <th>url</th>\n      <th>cover_image</th>\n      <th>publication_date</th>\n      <th>publisher</th>\n      <th>page_count</th>\n      <th>average_rating</th>\n      <th>normalized_page_count</th>\n    </tr>\n    <tr>\n      <th>product_id</th>\n      <th></th>\n      <th></th>\n      <th></th>\n      <th></th>\n      <th></th>\n      <th></th>\n      <th></th>\n      <th></th>\n      <th></th>\n      <th></th>\n      <th></th>\n      <th></th>\n    </tr>\n  </thead>\n  <tbody>\n    <tr>\n      <th>9781098146658</th>\n      <td>What Is Trunk-Based Development?</td>\n      <td>[Clare Sudbery]</td>\n      <td>Software development often goes wrong. Very wr...</td>\n      <td>en</td>\n      <td>Software Development</td>\n      <td>https://learning.oreilly.com/library/view/-/97...</td>\n      <td>https://learning.oreilly.com/library/cover/978...</td>\n      <td>2023-06-25</td>\n      <td>O'Reilly Media, Inc.</td>\n      <td>47</td>\n      <td>NaN</td>\n      <td>6.855655</td>\n    </tr>\n    <tr>\n      <th>9781098146306</th>\n      <td>What Is Crossplane?</td>\n      <td>[Nic Cope]</td>\n      <td>Control planes provide an increasingly popular...</td>\n      <td>en</td>\n      <td>IT Operations</td>\n      <td>https://learning.oreilly.com/library/view/-/97...</td>\n      <td>https://learning.oreilly.com/library/cover/978...</td>\n      <td>2023-05-25</td>\n      <td>O'Reilly Media, Inc.</td>\n      <td>30</td>\n      <td>NaN</td>\n      <td>5.477226</td>\n    </tr>\n    <tr>\n      <th>9781098146306</th>\n      <td>What Is Crossplane?</td>\n      <td>[Nic Cope]</td>\n      <td>Control planes provide an increasingly popular...</td>\n      <td>en</td>\n      <td>Virtualization</td>\n      <td>https://learning.oreilly.com/library/view/-/97...</td>\n      <td>https://learning.oreilly.com/library/cover/978...</td>\n      <td>2023-05-25</td>\n      <td>O'Reilly Media, Inc.</td>\n      <td>30</td>\n      <td>NaN</td>\n      <td>5.477226</td>\n    </tr>\n    <tr>\n      <th>9781098146306</th>\n      <td>What Is Crossplane?</td>\n      <td>[Nic Cope]</td>\n      <td>Control planes provide an increasingly popular...</td>\n      <td>en</td>\n      <td>Containers</td>\n      <td>https://learning.oreilly.com/library/view/-/97...</td>\n      <td>https://learning.oreilly.com/library/cover/978...</td>\n      <td>2023-05-25</td>\n      <td>O'Reilly Media, Inc.</td>\n      <td>30</td>\n      <td>NaN</td>\n      <td>5.477226</td>\n    </tr>\n    <tr>\n      <th>9781098146306</th>\n      <td>What Is Crossplane?</td>\n      <td>[Nic Cope]</td>\n      <td>Control planes provide an increasingly popular...</td>\n      <td>en</td>\n      <td>Container Orchestrators</td>\n      <td>https://learning.oreilly.com/library/view/-/97...</td>\n      <td>https://learning.oreilly.com/library/cover/978...</td>\n      <td>2023-05-25</td>\n      <td>O'Reilly Media, Inc.</td>\n      <td>30</td>\n      <td>NaN</td>\n      <td>5.477226</td>\n    </tr>\n    <tr>\n      <th>...</th>\n      <td>...</td>\n      <td>...</td>\n      <td>...</td>\n      <td>...</td>\n      <td>...</td>\n      <td>...</td>\n      <td>...</td>\n      <td>...</td>\n      <td>...</td>\n      <td>...</td>\n      <td>...</td>\n      <td>...</td>\n    </tr>\n    <tr>\n      <th>9781492028017</th>\n      <td>Understanding Patterns of Enterprise Transform...</td>\n      <td>[Helen Williams, Jeremy Sutherland]</td>\n      <td>Although companies \"going digital\" has capture...</td>\n      <td>en</td>\n      <td>Business Strategy</td>\n      <td>https://learning.oreilly.com/library/view/-/97...</td>\n      <td>https://learning.oreilly.com/library/cover/978...</td>\n      <td>2018-01-15</td>\n      <td>O'Reilly Media, Inc.</td>\n      <td>39</td>\n      <td>5.0</td>\n      <td>6.244998</td>\n    </tr>\n    <tr>\n      <th>9781492028017</th>\n      <td>Understanding Patterns of Enterprise Transform...</td>\n      <td>[Helen Williams, Jeremy Sutherland]</td>\n      <td>Although companies \"going digital\" has capture...</td>\n      <td>en</td>\n      <td>Digital Transformation</td>\n      <td>https://learning.oreilly.com/library/view/-/97...</td>\n      <td>https://learning.oreilly.com/library/cover/978...</td>\n      <td>2018-01-15</td>\n      <td>O'Reilly Media, Inc.</td>\n      <td>39</td>\n      <td>5.0</td>\n      <td>6.244998</td>\n    </tr>\n    <tr>\n      <th>9781492027980</th>\n      <td>The Making of an Agile Leader</td>\n      <td>[Jean Dahl]</td>\n      <td>Going digital is essential for companies looki...</td>\n      <td>en</td>\n      <td>Software Development</td>\n      <td>https://learning.oreilly.com/library/view/-/97...</td>\n      <td>https://learning.oreilly.com/library/cover/978...</td>\n      <td>2018-01-15</td>\n      <td>O'Reilly Media, Inc.</td>\n      <td>47</td>\n      <td>NaN</td>\n      <td>6.855655</td>\n    </tr>\n    <tr>\n      <th>9781492027980</th>\n      <td>The Making of an Agile Leader</td>\n      <td>[Jean Dahl]</td>\n      <td>Going digital is essential for companies looki...</td>\n      <td>en</td>\n      <td>Software Collaboration</td>\n      <td>https://learning.oreilly.com/library/view/-/97...</td>\n      <td>https://learning.oreilly.com/library/cover/978...</td>\n      <td>2018-01-15</td>\n      <td>O'Reilly Media, Inc.</td>\n      <td>47</td>\n      <td>NaN</td>\n      <td>6.855655</td>\n    </tr>\n    <tr>\n      <th>9781492027980</th>\n      <td>The Making of an Agile Leader</td>\n      <td>[Jean Dahl]</td>\n      <td>Going digital is essential for companies looki...</td>\n      <td>en</td>\n      <td>Agile</td>\n      <td>https://learning.oreilly.com/library/view/-/97...</td>\n      <td>https://learning.oreilly.com/library/cover/978...</td>\n      <td>2018-01-15</td>\n      <td>O'Reilly Media, Inc.</td>\n      <td>47</td>\n      <td>NaN</td>\n      <td>6.855655</td>\n    </tr>\n  </tbody>\n</table>\n<p>743 rows × 12 columns</p>\n</div>"
     },
     "execution_count": 44,
     "metadata": {},
     "output_type": "execute_result"
    }
   ],
   "source": [
    "df[filter_norm_page_count]"
   ],
   "metadata": {
    "collapsed": false,
    "ExecuteTime": {
     "end_time": "2023-07-13T15:41:57.727301Z",
     "start_time": "2023-07-13T15:41:57.590798Z"
    }
   }
  },
  {
   "cell_type": "code",
   "execution_count": 45,
   "outputs": [],
   "source": [
    "entries_to_drop = df[filter_norm_page_count].index"
   ],
   "metadata": {
    "collapsed": false,
    "ExecuteTime": {
     "end_time": "2023-07-13T15:41:57.727888Z",
     "start_time": "2023-07-13T15:41:57.599436Z"
    }
   }
  },
  {
   "cell_type": "code",
   "execution_count": 46,
   "outputs": [],
   "source": [
    "df.drop(index=entries_to_drop, inplace=True)"
   ],
   "metadata": {
    "collapsed": false,
    "ExecuteTime": {
     "end_time": "2023-07-13T15:41:57.728246Z",
     "start_time": "2023-07-13T15:41:57.602197Z"
    }
   }
  },
  {
   "cell_type": "code",
   "execution_count": 47,
   "outputs": [
    {
     "data": {
      "text/plain": "                                                           title  \\\nproduct_id                                                         \n9781633438774                                       Data for All   \n9781633438774                                       Data for All   \n9781804610879  Building Modern SaaS Applications with C# and ...   \n9781804610879  Building Modern SaaS Applications with C# and ...   \n9781804610879  Building Modern SaaS Applications with C# and ...   \n...                                                          ...   \n9781449335007                               UX for Lean Startups   \n9780596529963                          Web 2.0: A Strategy Guide   \n9780596529963                          Web 2.0: A Strategy Guide   \n9780596529963                          Web 2.0: A Strategy Guide   \n9780596529963                          Web 2.0: A Strategy Guide   \n\n                     authors  \\\nproduct_id                     \n9781633438774      [John Kt]   \n9781633438774      [John Kt]   \n9781804610879    [Andy Watt]   \n9781804610879    [Andy Watt]   \n9781804610879    [Andy Watt]   \n...                      ...   \n9781449335007  [Laura Klein]   \n9780596529963    [Amy Shuen]   \n9780596529963    [Amy Shuen]   \n9780596529963    [Amy Shuen]   \n9780596529963    [Amy Shuen]   \n\n                                                     description language  \\\nproduct_id                                                                  \n9781633438774  Do you know what happens to your personal data...       en   \n9781633438774  Do you know what happens to your personal data...       en   \n9781804610879  Embark on a tech-tastic adventure and build So...       en   \n9781804610879  Embark on a tech-tastic adventure and build So...       en   \n9781804610879  Embark on a tech-tastic adventure and build So...       en   \n...                                                          ...      ...   \n9781449335007  p>Great user experiences (UX) are essential fo...       en   \n9780596529963  Web 2.0 makes headlines, but how does it make ...       en   \n9780596529963  Web 2.0 makes headlines, but how does it make ...       en   \n9780596529963  Web 2.0 makes headlines, but how does it make ...       en   \n9780596529963  Web 2.0 makes headlines, but how does it make ...       en   \n\n                               category  \\\nproduct_id                                \n9781633438774                      Data   \n9781633438774  Enterprise Data Strategy   \n9781804610879      Software Development   \n9781804610879     Programming Languages   \n9781804610879                      .NET   \n...                                 ...   \n9781449335007                   Lean UX   \n9780596529963                  Business   \n9780596529963         Sales & Marketing   \n9780596529963                 Marketing   \n9780596529963    Social Media Marketing   \n\n                                                             url  \\\nproduct_id                                                         \n9781633438774  https://learning.oreilly.com/library/view/-/97...   \n9781633438774  https://learning.oreilly.com/library/view/-/97...   \n9781804610879  https://learning.oreilly.com/library/view/-/97...   \n9781804610879  https://learning.oreilly.com/library/view/-/97...   \n9781804610879  https://learning.oreilly.com/library/view/-/97...   \n...                                                          ...   \n9781449335007  https://learning.oreilly.com/library/view/-/97...   \n9780596529963  https://learning.oreilly.com/library/view/-/97...   \n9780596529963  https://learning.oreilly.com/library/view/-/97...   \n9780596529963  https://learning.oreilly.com/library/view/-/97...   \n9780596529963  https://learning.oreilly.com/library/view/-/97...   \n\n                                                     cover_image  \\\nproduct_id                                                         \n9781633438774  https://learning.oreilly.com/library/cover/978...   \n9781633438774  https://learning.oreilly.com/library/cover/978...   \n9781804610879  https://learning.oreilly.com/library/cover/978...   \n9781804610879  https://learning.oreilly.com/library/cover/978...   \n9781804610879  https://learning.oreilly.com/library/cover/978...   \n...                                                          ...   \n9781449335007  https://learning.oreilly.com/library/cover/978...   \n9780596529963  https://learning.oreilly.com/library/cover/978...   \n9780596529963  https://learning.oreilly.com/library/cover/978...   \n9780596529963  https://learning.oreilly.com/library/cover/978...   \n9780596529963  https://learning.oreilly.com/library/cover/978...   \n\n              publication_date             publisher  page_count  \\\nproduct_id                                                         \n9781633438774       2023-06-29  Manning Publications         192   \n9781633438774       2023-06-29  Manning Publications         192   \n9781804610879       2023-06-23      Packt Publishing         346   \n9781804610879       2023-06-23      Packt Publishing         346   \n9781804610879       2023-06-23      Packt Publishing         346   \n...                        ...                   ...         ...   \n9781449335007       2018-11-16  O'Reilly Media, Inc.         233   \n9780596529963       2018-11-19  O'Reilly Media, Inc.         265   \n9780596529963       2018-11-19  O'Reilly Media, Inc.         265   \n9780596529963       2018-11-19  O'Reilly Media, Inc.         265   \n9780596529963       2018-11-19  O'Reilly Media, Inc.         265   \n\n               average_rating  normalized_page_count  \nproduct_id                                            \n9781633438774             NaN              13.856406  \n9781633438774             NaN              13.856406  \n9781804610879             NaN              18.601075  \n9781804610879             NaN              18.601075  \n9781804610879             NaN              18.601075  \n...                       ...                    ...  \n9781449335007             4.8              15.264338  \n9780596529963             4.3              16.278821  \n9780596529963             4.3              16.278821  \n9780596529963             4.3              16.278821  \n9780596529963             4.3              16.278821  \n\n[17803 rows x 12 columns]",
      "text/html": "<div>\n<style scoped>\n    .dataframe tbody tr th:only-of-type {\n        vertical-align: middle;\n    }\n\n    .dataframe tbody tr th {\n        vertical-align: top;\n    }\n\n    .dataframe thead th {\n        text-align: right;\n    }\n</style>\n<table border=\"1\" class=\"dataframe\">\n  <thead>\n    <tr style=\"text-align: right;\">\n      <th></th>\n      <th>title</th>\n      <th>authors</th>\n      <th>description</th>\n      <th>language</th>\n      <th>category</th>\n      <th>url</th>\n      <th>cover_image</th>\n      <th>publication_date</th>\n      <th>publisher</th>\n      <th>page_count</th>\n      <th>average_rating</th>\n      <th>normalized_page_count</th>\n    </tr>\n    <tr>\n      <th>product_id</th>\n      <th></th>\n      <th></th>\n      <th></th>\n      <th></th>\n      <th></th>\n      <th></th>\n      <th></th>\n      <th></th>\n      <th></th>\n      <th></th>\n      <th></th>\n      <th></th>\n    </tr>\n  </thead>\n  <tbody>\n    <tr>\n      <th>9781633438774</th>\n      <td>Data for All</td>\n      <td>[John Kt]</td>\n      <td>Do you know what happens to your personal data...</td>\n      <td>en</td>\n      <td>Data</td>\n      <td>https://learning.oreilly.com/library/view/-/97...</td>\n      <td>https://learning.oreilly.com/library/cover/978...</td>\n      <td>2023-06-29</td>\n      <td>Manning Publications</td>\n      <td>192</td>\n      <td>NaN</td>\n      <td>13.856406</td>\n    </tr>\n    <tr>\n      <th>9781633438774</th>\n      <td>Data for All</td>\n      <td>[John Kt]</td>\n      <td>Do you know what happens to your personal data...</td>\n      <td>en</td>\n      <td>Enterprise Data Strategy</td>\n      <td>https://learning.oreilly.com/library/view/-/97...</td>\n      <td>https://learning.oreilly.com/library/cover/978...</td>\n      <td>2023-06-29</td>\n      <td>Manning Publications</td>\n      <td>192</td>\n      <td>NaN</td>\n      <td>13.856406</td>\n    </tr>\n    <tr>\n      <th>9781804610879</th>\n      <td>Building Modern SaaS Applications with C# and ...</td>\n      <td>[Andy Watt]</td>\n      <td>Embark on a tech-tastic adventure and build So...</td>\n      <td>en</td>\n      <td>Software Development</td>\n      <td>https://learning.oreilly.com/library/view/-/97...</td>\n      <td>https://learning.oreilly.com/library/cover/978...</td>\n      <td>2023-06-23</td>\n      <td>Packt Publishing</td>\n      <td>346</td>\n      <td>NaN</td>\n      <td>18.601075</td>\n    </tr>\n    <tr>\n      <th>9781804610879</th>\n      <td>Building Modern SaaS Applications with C# and ...</td>\n      <td>[Andy Watt]</td>\n      <td>Embark on a tech-tastic adventure and build So...</td>\n      <td>en</td>\n      <td>Programming Languages</td>\n      <td>https://learning.oreilly.com/library/view/-/97...</td>\n      <td>https://learning.oreilly.com/library/cover/978...</td>\n      <td>2023-06-23</td>\n      <td>Packt Publishing</td>\n      <td>346</td>\n      <td>NaN</td>\n      <td>18.601075</td>\n    </tr>\n    <tr>\n      <th>9781804610879</th>\n      <td>Building Modern SaaS Applications with C# and ...</td>\n      <td>[Andy Watt]</td>\n      <td>Embark on a tech-tastic adventure and build So...</td>\n      <td>en</td>\n      <td>.NET</td>\n      <td>https://learning.oreilly.com/library/view/-/97...</td>\n      <td>https://learning.oreilly.com/library/cover/978...</td>\n      <td>2023-06-23</td>\n      <td>Packt Publishing</td>\n      <td>346</td>\n      <td>NaN</td>\n      <td>18.601075</td>\n    </tr>\n    <tr>\n      <th>...</th>\n      <td>...</td>\n      <td>...</td>\n      <td>...</td>\n      <td>...</td>\n      <td>...</td>\n      <td>...</td>\n      <td>...</td>\n      <td>...</td>\n      <td>...</td>\n      <td>...</td>\n      <td>...</td>\n      <td>...</td>\n    </tr>\n    <tr>\n      <th>9781449335007</th>\n      <td>UX for Lean Startups</td>\n      <td>[Laura Klein]</td>\n      <td>p&gt;Great user experiences (UX) are essential fo...</td>\n      <td>en</td>\n      <td>Lean UX</td>\n      <td>https://learning.oreilly.com/library/view/-/97...</td>\n      <td>https://learning.oreilly.com/library/cover/978...</td>\n      <td>2018-11-16</td>\n      <td>O'Reilly Media, Inc.</td>\n      <td>233</td>\n      <td>4.8</td>\n      <td>15.264338</td>\n    </tr>\n    <tr>\n      <th>9780596529963</th>\n      <td>Web 2.0: A Strategy Guide</td>\n      <td>[Amy Shuen]</td>\n      <td>Web 2.0 makes headlines, but how does it make ...</td>\n      <td>en</td>\n      <td>Business</td>\n      <td>https://learning.oreilly.com/library/view/-/97...</td>\n      <td>https://learning.oreilly.com/library/cover/978...</td>\n      <td>2018-11-19</td>\n      <td>O'Reilly Media, Inc.</td>\n      <td>265</td>\n      <td>4.3</td>\n      <td>16.278821</td>\n    </tr>\n    <tr>\n      <th>9780596529963</th>\n      <td>Web 2.0: A Strategy Guide</td>\n      <td>[Amy Shuen]</td>\n      <td>Web 2.0 makes headlines, but how does it make ...</td>\n      <td>en</td>\n      <td>Sales &amp; Marketing</td>\n      <td>https://learning.oreilly.com/library/view/-/97...</td>\n      <td>https://learning.oreilly.com/library/cover/978...</td>\n      <td>2018-11-19</td>\n      <td>O'Reilly Media, Inc.</td>\n      <td>265</td>\n      <td>4.3</td>\n      <td>16.278821</td>\n    </tr>\n    <tr>\n      <th>9780596529963</th>\n      <td>Web 2.0: A Strategy Guide</td>\n      <td>[Amy Shuen]</td>\n      <td>Web 2.0 makes headlines, but how does it make ...</td>\n      <td>en</td>\n      <td>Marketing</td>\n      <td>https://learning.oreilly.com/library/view/-/97...</td>\n      <td>https://learning.oreilly.com/library/cover/978...</td>\n      <td>2018-11-19</td>\n      <td>O'Reilly Media, Inc.</td>\n      <td>265</td>\n      <td>4.3</td>\n      <td>16.278821</td>\n    </tr>\n    <tr>\n      <th>9780596529963</th>\n      <td>Web 2.0: A Strategy Guide</td>\n      <td>[Amy Shuen]</td>\n      <td>Web 2.0 makes headlines, but how does it make ...</td>\n      <td>en</td>\n      <td>Social Media Marketing</td>\n      <td>https://learning.oreilly.com/library/view/-/97...</td>\n      <td>https://learning.oreilly.com/library/cover/978...</td>\n      <td>2018-11-19</td>\n      <td>O'Reilly Media, Inc.</td>\n      <td>265</td>\n      <td>4.3</td>\n      <td>16.278821</td>\n    </tr>\n  </tbody>\n</table>\n<p>17803 rows × 12 columns</p>\n</div>"
     },
     "execution_count": 47,
     "metadata": {},
     "output_type": "execute_result"
    }
   ],
   "source": [
    "df"
   ],
   "metadata": {
    "collapsed": false,
    "ExecuteTime": {
     "end_time": "2023-07-13T15:41:57.728371Z",
     "start_time": "2023-07-13T15:41:57.614850Z"
    }
   }
  },
  {
   "cell_type": "code",
   "execution_count": 48,
   "outputs": [
    {
     "name": "stdout",
     "output_type": "stream",
     "text": [
      "Book count: 5250\n"
     ]
    }
   ],
   "source": [
    "print(f'Book count: {len(df.index.drop_duplicates())}')"
   ],
   "metadata": {
    "collapsed": false,
    "ExecuteTime": {
     "end_time": "2023-07-13T15:41:57.728476Z",
     "start_time": "2023-07-13T15:41:57.617235Z"
    }
   }
  },
  {
   "cell_type": "markdown",
   "source": [
    "We can drop column *normalized_page_count*"
   ],
   "metadata": {
    "collapsed": false
   }
  },
  {
   "cell_type": "code",
   "execution_count": 49,
   "outputs": [],
   "source": [
    "df.drop(columns='normalized_page_count', inplace=True)"
   ],
   "metadata": {
    "collapsed": false,
    "ExecuteTime": {
     "end_time": "2023-07-13T15:41:57.728530Z",
     "start_time": "2023-07-13T15:41:57.620107Z"
    }
   }
  },
  {
   "cell_type": "markdown",
   "source": [
    "# 3. Check cover image"
   ],
   "metadata": {
    "collapsed": false
   }
  },
  {
   "cell_type": "code",
   "execution_count": 50,
   "outputs": [],
   "source": [
    "import easyocr"
   ],
   "metadata": {
    "collapsed": false,
    "ExecuteTime": {
     "end_time": "2023-07-13T15:41:58.916095Z",
     "start_time": "2023-07-13T15:41:57.624584Z"
    }
   }
  },
  {
   "cell_type": "code",
   "execution_count": 51,
   "outputs": [],
   "source": [
    "def is_oreilly_report(x):\n",
    "    reader = easyocr.Reader(['en'])\n",
    "    product_id = x.name\n",
    "    title = x['title']\n",
    "    r = False\n",
    "    search_strs = ['report', 'infographic']\n",
    "    t_lowered = title.lower()\n",
    "    # If Report or Infographic is in the title we exclude it's a Report\n",
    "    if any([s in t_lowered for s in search_strs]):\n",
    "        return r\n",
    "    else:\n",
    "        text_in_cover = [text.lower() for text in reader.readtext(f'cover_images/{product_id}.jpeg', detail=0)]\n",
    "        print(text_in_cover)\n",
    "        r = any([s in text_in_cover for s in search_strs])\n",
    "        print(f'{product_id} is report: {r}')\n",
    "        return r"
   ],
   "metadata": {
    "collapsed": false,
    "ExecuteTime": {
     "end_time": "2023-07-13T15:41:58.918967Z",
     "start_time": "2023-07-13T15:41:58.917608Z"
    }
   }
  },
  {
   "cell_type": "code",
   "execution_count": 52,
   "outputs": [],
   "source": [
    "filter_books = (df['page_count'] <= 120) & (df['publisher'] == \"O'Reilly Media, Inc.\")"
   ],
   "metadata": {
    "collapsed": false,
    "ExecuteTime": {
     "end_time": "2023-07-13T15:41:58.922837Z",
     "start_time": "2023-07-13T15:41:58.920592Z"
    }
   }
  },
  {
   "cell_type": "code",
   "execution_count": 53,
   "outputs": [],
   "source": [
    "entries_to_be_checked = df.loc[filter_books, ['title', 'page_count']].drop_duplicates().sort_values(by='page_count')"
   ],
   "metadata": {
    "collapsed": false,
    "ExecuteTime": {
     "end_time": "2023-07-13T15:41:58.925845Z",
     "start_time": "2023-07-13T15:41:58.923055Z"
    }
   }
  },
  {
   "cell_type": "code",
   "execution_count": 54,
   "outputs": [
    {
     "data": {
      "text/plain": "                                                        title  page_count\nproduct_id                                                               \n9781492027140                      Securing Microservice APIs          49\n9781098149529   Cloud Adoption for Mission-Critical Workloads          50\n9781492053668                         What Is Service Design?          50\n9781098110253        Transforming Customer Data into Insights          50\n9781098138646           Zero Trust Architecture in Kubernetes          50\n...                                                       ...         ...\n9781492076018             Training Site Reliability Engineers         114\n9781098133368                               Learning Airtable         117\n9781492038290  Microservices for Java Developers, 2nd Edition         117\n9781098127459                                Security as Code         119\n9781492058137    Data Warehousing with Greenplum, 2nd Edition         120\n\n[124 rows x 2 columns]",
      "text/html": "<div>\n<style scoped>\n    .dataframe tbody tr th:only-of-type {\n        vertical-align: middle;\n    }\n\n    .dataframe tbody tr th {\n        vertical-align: top;\n    }\n\n    .dataframe thead th {\n        text-align: right;\n    }\n</style>\n<table border=\"1\" class=\"dataframe\">\n  <thead>\n    <tr style=\"text-align: right;\">\n      <th></th>\n      <th>title</th>\n      <th>page_count</th>\n    </tr>\n    <tr>\n      <th>product_id</th>\n      <th></th>\n      <th></th>\n    </tr>\n  </thead>\n  <tbody>\n    <tr>\n      <th>9781492027140</th>\n      <td>Securing Microservice APIs</td>\n      <td>49</td>\n    </tr>\n    <tr>\n      <th>9781098149529</th>\n      <td>Cloud Adoption for Mission-Critical Workloads</td>\n      <td>50</td>\n    </tr>\n    <tr>\n      <th>9781492053668</th>\n      <td>What Is Service Design?</td>\n      <td>50</td>\n    </tr>\n    <tr>\n      <th>9781098110253</th>\n      <td>Transforming Customer Data into Insights</td>\n      <td>50</td>\n    </tr>\n    <tr>\n      <th>9781098138646</th>\n      <td>Zero Trust Architecture in Kubernetes</td>\n      <td>50</td>\n    </tr>\n    <tr>\n      <th>...</th>\n      <td>...</td>\n      <td>...</td>\n    </tr>\n    <tr>\n      <th>9781492076018</th>\n      <td>Training Site Reliability Engineers</td>\n      <td>114</td>\n    </tr>\n    <tr>\n      <th>9781098133368</th>\n      <td>Learning Airtable</td>\n      <td>117</td>\n    </tr>\n    <tr>\n      <th>9781492038290</th>\n      <td>Microservices for Java Developers, 2nd Edition</td>\n      <td>117</td>\n    </tr>\n    <tr>\n      <th>9781098127459</th>\n      <td>Security as Code</td>\n      <td>119</td>\n    </tr>\n    <tr>\n      <th>9781492058137</th>\n      <td>Data Warehousing with Greenplum, 2nd Edition</td>\n      <td>120</td>\n    </tr>\n  </tbody>\n</table>\n<p>124 rows × 2 columns</p>\n</div>"
     },
     "execution_count": 54,
     "metadata": {},
     "output_type": "execute_result"
    }
   ],
   "source": [
    "entries_to_be_checked"
   ],
   "metadata": {
    "collapsed": false,
    "ExecuteTime": {
     "end_time": "2023-07-13T15:41:58.930242Z",
     "start_time": "2023-07-13T15:41:58.928316Z"
    }
   }
  },
  {
   "cell_type": "markdown",
   "source": [
    "The next line will take some time !-)"
   ],
   "metadata": {
    "collapsed": false
   }
  },
  {
   "cell_type": "code",
   "execution_count": 55,
   "outputs": [
    {
     "name": "stdout",
     "output_type": "stream",
     "text": [
      "['oreilly', 'securing', 'microservice apis', 'matt mclarty. rob wilson', '& scott morisson', 'report']\n",
      "9781492027140 is report: True\n",
      "[\"oreilly'\", 'cloud adoption', 'for mission-critical', 'workloads', 'principles for designing', 'always on applications', 'haytham elkhoja', 'report', '1', 'kyndryl']\n",
      "9781098149529 is report: True\n",
      "['oreillye', 'what is', 'service', 'design?', 'adam lawrence, marc stickdorn,', 'markus edgar hormess', '€ jakob schneider', 'report']\n",
      "9781492053668 is report: True\n",
      "['oreilly\"', 'transforming', 'customer data', 'into insights', 'chief', \"marketing officer's\", 'guide to cdps', 'george mount, lynne capozzi', '& karen wood', 'report']\n",
      "9781098110253 is report: True\n",
      "['oreilly\"', 'zero trust', 'architecture', 'in kubernetes', 'kim crawley', 'report']\n",
      "9781098138646 is report: True\n",
      "['oreilly?', 'the frameworki', 'for ml', 'governance', 'kyle gallatin', 'report']\n",
      "9781098100483 is report: True\n",
      "[\"oreilly'\", 'overcoming', 'infrastructure', 'obstacles', 'when', 'deploying', 'production-ready', 'kubernetes', 'nathan leclaire', 'report']\n",
      "9781492092438 is report: True\n",
      "['oreilly', '2017', 'data science', 'salary survey', 'brian suda', 'report']\n",
      "9781491997079 is report: True\n",
      "['oreilly\"', 'the benefits of', 'open source', 'and the risks', 'of open core', 'understanding the differences', 'between the two models', 'danese cooper & andy oram', 'report']\n",
      "9781098117474 is report: True\n",
      "['oreillye', 'nginx unit', 'cookbook', 'derek dejonghe', 'report']\n",
      "9781492054313 is report: True\n",
      "['oreilly?', 'agile ai', 'a practical guide to building ai', 'applications and teams', 'carlo appugliese, paco nathan ', '& william s. roberts', 'report']\n",
      "9781492074984 is report: True\n",
      "['oreilly\"', 'what is', 'ebpf?', 'an introduction to a new', 'generation of networking; security;', 'and observability tools', 'liz rice', 'report']\n",
      "9781492097266 is report: True\n",
      "['oreilly\"', 'managing data', 'orchestration &', 'integration', 'at scale', 'the role of open source', 'in transforming data', 'kevin poskitt & ginger gatling', 'report']\n",
      "9781492093862 is report: True\n",
      "['oreilly', 'designing', 'and building', 'a', 'hybrid cloud', 'philip trautman', 'report']\n",
      "9781492036937 is report: True\n",
      "['oreilly', 'modern', 'defense', 'in depth', 'an integrated approach to', 'better web application security', 'stephen gates', 'report']\n",
      "9781492050360 is report: True\n",
      "[\"oreilly'\", 'what is', 'mlops?', 'generating long-term value from', 'data science & machine learning', 'mark treveil & lynn heidmann', 'report']\n",
      "9781492093626 is report: True\n",
      "['oreillye', 'the care and', 'feeding of', 'data scientists', \"michelangelo d'agostino\", '& katie malone', 'report']\n",
      "9781492053972 is report: True\n",
      "['oreilly\"', 'cloud native', 'application', 'security', 'embracing developer-first', 'security for the cloud era', 'podjarny', 'report', 'guy']\n",
      "9781098105631 is report: True\n",
      "['oreilly', 'architecting', 'data lakes', 'ben sharma', 'report']\n",
      "9781492033004 is report: True\n",
      "['oreilly', 'preparing for', 'your migration', 'to the cloud', 'steve francis', 'report']\n",
      "9781492038832 is report: True\n",
      "['oreilly:', 'understanding', 'analytics', 'at scale', 'data, analytics', '€ management', 'matt gillespie', 'report', 'log', 'log']\n",
      "9781492076254 is report: True\n",
      "['oreillye', 'multicloud', 'architecture', 'migration', '6', 'security', 'laurent gil & allan liska', 'report']\n",
      "9781492050407 is report: True\n",
      "['oreilly', 'a', \"developer's\", 'guide to', 'building', 'al applications', 'anand raman & wee hyong tok', 'report']\n",
      "9781492037835 is report: True\n",
      "['oreilly\"', 'changing mindsets:', 'the missing', 'ingredient to digital_', 'transformation', 'modernizing software', 'creation for large', 'enterprises', 'michael cote', 'report']\n",
      "9781098105839 is report: True\n",
      "['oreillye', 'angular', 'for', 'eevelcprrert', 'lukas ruebbelke & brian love', 'report', 'why']\n",
      "9781492030294 is report: True\n",
      "['oreilly\"', 'hybrid &', 'multicloud', 'management', 'five strategies to increase', 'agility & efficiency in an', 'evolving cloud world', 'philip trautman', 'report']\n",
      "9781492091547 is report: True\n",
      "['oreilly\"', 'cloud native', 'monitoring', 'practical challenges and solutions', 'for modern architecture', 'kenichi shibata; rob skillington', '& martin mao', 'report']\n",
      "9781098126919 is report: True\n",
      "[\"oreilly'\", 'migrating', 'applications', 'to the cloud', 'securing the value of digital', 'transformation for your business', 'steve swoyer', 'report']\n",
      "9781098102807 is report: True\n",
      "['oreilly', 'streaming change', 'data capture', 'kevin petrie; don potter', '& itamar ankorion', 'report']\n",
      "9781492032526 is report: True\n",
      "['oreilly?', 'data mesh', 'in practice', 'how to set up a data-driven', 'organization', 'max schultze & arif wider', 'report']\n",
      "9781098108502 is report: True\n",
      "[\"oreilly'\", 'the evolving', 'role of the', 'data engineer', 'change', 'continuity', 'in data practices', 'andy oram', 'report', 'and']\n",
      "9781492052517 is report: True\n",
      "['oreilly', 'fast data', 'architectures', 'for streaming', 'applications', 'dean wampler', 'report']\n",
      "9781492046820 is report: True\n",
      "['oreilly', \"what's new\", 'in java 11?', 'benjamin muschko', 'report']\n",
      "9781492047575 is report: True\n",
      "['oreilly\"', 'enterprise', 'roadmap', 'to sre', 'how to build and sustain', 'an sre function', 'james brookbank', '& steve mcghee', 'report']\n",
      "9781098117740 is report: True\n",
      "[\"oreilly'\", 'an introduction to', 'machine learning', 'interpretability', 'second edition', 'an applied perspective on fairness,', 'accountability, transparency, and', 'explainable ai', 'patrick hall & navdeep gill', 'report']\n",
      "9781098115487 is report: True\n",
      "['oreilly r', 'al-driven', 'testing', 'bridging the software', 'automation gap', 'tariq king', 'report']\n",
      "9781098105983 is report: True\n",
      "['oreilly', 'machine learning is', 'changing the rules', 'peter morgan', 'report']\n",
      "9781492035367 is report: True\n",
      "['oreilly', 'what react', 'is and why it', 'matters', 'eric baer', 'report']\n",
      "9781491996744 is report: True\n",
      "[\"oreilly'\", 'product', 'management', 'for ai', 'justin norman,', 'peter skomoroch,', 'and mike loukides', 'report']\n",
      "9781098104207 is report: True\n",
      "['oreilly', 'the enterprise path', 'to service mesh', 'architectures', 'lee calcote', 'report']\n",
      "9781492041795 is report: True\n",
      "['oreilly\"', 'compliments of', 'nvidia', 'accelerating', 'al with', 'synthetic data', 'generating data for al projects', 'khaled el emam', 'report']\n",
      "9781492045991 is report: True\n",
      "['oreilly', 'creating a', 'data-driven', 'enterprise in media', 'ashish thusoo &', 'joydeep sen sarma', 'report']\n",
      "9781491998007 is report: True\n",
      "[\"oreilly'\", 'serverless', 'security', 'protect functions using the', 'clad security model', 'podjarny', '& liran tal', 'report', 'guy']\n",
      "9781492082538 is report: True\n",
      "['oreilly\"', 'automating', 'the modern', 'data warehouse', 'a comprehensive guide for', 'optimal data management', 'steve swoyer', 'report']\n",
      "9781098102845 is report: True\n",
      "['oreillye', 'getting', 'dataops', 'right', 'andy palmer; michael stonebraker;', 'nik bates-haus, liam cleary', '& mark marinelli', 'report']\n",
      "9781492031765 is report: True\n",
      "['oreilly', 'laying the', 'groundwork', 'for cloud', 'mark preston', 'report']\n",
      "9781492036029 is report: True\n",
      "['oreilly', 'introducing istio', 'service mesh for', 'microservices', 'christian posta & burr sutter', 'report']\n",
      "9781491988770 is report: True\n",
      "['oreilly', 'nfts, the metaverse', 'and everything', 'web 3.0', 'the 2023 guide to', 'the blockchain and', 'digital asset industry', 'evan karnoupakis', 'report']\n",
      "9781098140090 is report: True\n",
      "['oreilly;', 'security', 'observability', 'with ebpf', 'measuring cloud native security', 'through ebpf observability', 'jed salazar &', 'natalia reka ivanko', 'report']\n",
      "9781492096719 is report: True\n",
      "['oreilly?', 'language', 'models in', 'plain english', 'humans understanding how', 'machines understand language', 'austin eovito &', 'marina danilevsky', 'report']\n",
      "9781098109073 is report: True\n",
      "['oreilly:', 'responsible', 'microservices', 'where microservices', 'deliver value', 'nathaniel schutta', 'report', '[', '1', '1']\n",
      "9781492085294 is report: True\n",
      "['oreilly', 'thinking', 'architecturally', 'nathaniel schutta', 'report']\n",
      "9781492034421 is report: True\n",
      "['oreilly', 'service', 'mesh patterns', 'expect more from your infrastructure', 'early', 'release', 'raw &', 'unedited', 'lee calcote ', 'nic jackson & paul bouwer']\n",
      "9781492086444 is report: False\n",
      "['oreilly', 'responsible', 'machine', 'learning', 'actionable strategies', 'for mitigating risks &', 'driving adoption', 'patrick hall, navdeep gill', '& benjamin cox', 'report']\n",
      "9781492090878 is report: True\n",
      "[\"oreilly'\", 'the', 'innersource', 'workbook', 'arno mihm, russell rutledge', '& johannes tigges', 'report']\n",
      "9781492075936 is report: True\n",
      "['oreilly\"', 'architecting', 'data-intensive', 'saas applications', 'building scalable', 'software with snowflake', 'william waddington', 'kevin', 'mcginley;', 'pui kei johnston chu;', 'gjorgji georgievski', '& dinesh kulkarni', 'report']\n",
      "9781098102760 is report: True\n",
      "['oreilly', 'devsecops', 'in', 'kubernetes', 'wei lien dang', 'ajmal kohgadai', 'report']\n",
      "9781098101787 is report: True\n",
      "['oreilly\"', 'anatomy', 'of an', 'incident', \"google's approach to\", 'incident management', 'for production services', 'ayelet sachto & adrienne walcer', 'with jessie yang', 'report']\n",
      "9781098113759 is report: True\n",
      "['oreilly', 'nginx unit', 'cookbook', 'recipes for using a versatile', 'open-source server', 'derek dejonghe']\n",
      "9781492078555 is report: False\n",
      "[\"oreilly'\", 'what is a', 'data lake?', 'evolution of data lakes', 'in the age of cloud computinz', 'alex gorelik', 'report']\n",
      "9781492088899 is report: True\n",
      "['oreillye', 'blockchain', 'as @ service', 'karen kilroy', 'report']\n",
      "9781492073475 is report: True\n",
      "['oreilly', 'achieving real', 'business outcomes', 'from artificial', 'intelligence', 'atif kureishy: chad meley', '& ben mackenzie', 'report']\n",
      "9781492038214 is report: True\n",
      "['oreilly', 'security with', 'al and machine', 'learning', 'laurent gil & allan liska', 'report']\n",
      "9781492043133 is report: True\n",
      "['oreilly\"', 'software', 'architecture', 'patterns', 'second edition', 'understanding common', 'architectural styles and', 'when to use them', 'mark richards', 'report']\n",
      "9781098134280 is report: True\n",
      "['oreilly?', 'automating', 'analytics', 'a human-centered', 'approach to', 'transformative business outcomes', 'david sweenor', 'melissa burroughs', 'report']\n",
      "9781098111014 is report: True\n",
      "['oreilly', 'threat hunting', 'michael collins', 'report']\n",
      "9781492028260 is report: True\n",
      "['oreilly', 'web application', 'firewalls', 'chad russell', 'report']\n",
      "9781492032311 is report: True\n",
      "['oreilly?', 'operationalizing', 'al', 'how to accelerate and', 'scale across people;', 'processes; platforms', 'john j: thomas, william roberts', '& paco nathan', 'report']\n",
      "9781098101329 is report: True\n",
      "['oreilly', 'container', 'networking', 'michael hausenblas', 'report']\n",
      "9781492036845 is report: True\n",
      "['oreilly\"', 'model performance', 'management with', 'explainable ai', 'build high performance', 'responsible al', 'amit paka, krishna gade & danny farah', 'report']\n",
      "9781098108687 is report: True\n",
      "['oreilly\"', 'the future of', 'observability with', 'opentelemetry', 'how better data', 'will fundamentally', 'shift our practices', 'ted young', 'report']\n",
      "9781098118433 is report: True\n",
      "['oreilly\"', 'graphql for', 'modern commerce', 'complement your rest apis', 'with the power of graphs', 'kelly goetsch']\n",
      "9781492056850 is report: False\n",
      "['oreilly', 'scaling data', 'services with', 'pivotal gemfire', 'mike stolz', 'report']\n",
      "9781492027584 is report: True\n",
      "['oreilly', 'devops and', 'business', 'leon fayer', 'report']\n",
      "9781492036609 is report: True\n",
      "['oreilly\"', 'api traffic', 'management ', '101', 'monitoring to', 'managing and beyond', 'mike amundsen', 'report', 'from']\n",
      "9781492056393 is report: True\n",
      "[\"oreilly'\", 'predictive', 'analytics for', 'healthcare', 'leveraging the power of data', 'across the care pathway', 'jaquie finn &', 'dr: gavin troughton', 'report']\n",
      "9781492090038 is report: True\n",
      "['oreilly', 'dask', 'the definitive guide', 'scalable python data science with dask', 'early', 'release', 'raw &', 'unedited', 'matthew rocklin,', 'matthew powers', 'richard pelgrim']\n",
      "9781098117139 is report: False\n",
      "['oreilly?', 'open source', 'data pipelines', 'for intelligent', 'applications', 'kyle bader; sherard griffin,', 'pete brey; daniel riek', '& nathan leclaire', 'report', 'complments €', '1']\n",
      "9781492074281 is report: True\n",
      "['oreilly', 'biocoder', 'bio newsletter', 'september 2016', 'a biotech wave at sxsw', 'karen ingram', 'minipcr: enabling the era of personal dna', 'zeke alvarez saavedra & sebastian kraves', 'are your ribosomes in a twist?', 'danfox davies', 'design bio', 'orkan telhan']\n",
      "9781098105570 is report: False\n",
      "['oreillye', 'getting started', 'with knative', 'brian mcclain &', 'bryan friedman', 'report']\n",
      "9781492047025 is report: True\n",
      "['oreilly', 'getting started', 'with artificial', 'intelligence', 'tom markiewicz & josh zheng', 'report']\n",
      "9781492027805 is report: True\n",
      "['oreilly', 'continuous delivery', 'with spinnaker', 'emily burns, asher feldman;', 'rob fletcher; tomas lin,', 'justin reynolds, chris sanden;', 'lars wander & rob zienert', 'report']\n",
      "9781492035527 is report: True\n",
      "['oreilly\"', 'radically', 'collaborative', 'patterns for', 'software makers', 'a mini-', 'encyclopedia', 'matt k parker', 'report', '[', '1', '7', '0']\n",
      "9781492063308 is report: True\n",
      "['oreilly\"', 'second edition', 'understanding', 'analytics', 'at scale', 'log data; analytics', '& management', 'matt gillespie', '& charles givre', 'report', 'log']\n",
      "9781098104269 is report: True\n",
      "[\"oreilly'\", 'the', 'business', 'bottleneck', 'breaking through the last barrier', 'of digital transformation', 'michael cote', 'report', '1', '1', 'l']\n",
      "9781492077589 is report: True\n",
      "['oreilly', 'the enterprise', 'path to', 'service mesh', 'architectures', 'second edition', 'decoupling at layer 5', 'lee calcote', 'report']\n",
      "9781492089353 is report: True\n",
      "['oreilly?', 'n', 'getting started', 'with artificial', 'intelligence', 'second edition', 'a practical guide to', 'building', 'enterprise applications', 'tom markiewicz & josh zheng', 'report', '1', 's']\n",
      "9781492083443 is report: True\n",
      "['oreillye', 'introducing istio', 'service mesh', 'for microservices', 'second edition', 'burr sutter & christian posta', 'report']\n",
      "9781492052630 is report: True\n",
      "['oreilly', 'managing and', 'mitigating bots', 'andy still', 'report']\n",
      "9781492029380 is report: True\n",
      "['oreilly', 'learning', 'and operating', 'presto', 'fast; reliable sql for data analytics', 'and lakehouses', 'early', 'release', 'raw & unedited', 'comp lmonts', 'ahana', 'angelica lo duca,', 'vivek bharathan', 'ying su', 'foreword by nezih yigitbasi,', 'presto']\n",
      "9781098141844 is report: False\n",
      "['oreilly', 'al and', 'the law', 'developing and', 'deploying al in enterprise', 'karen kilroy', 'report']\n",
      "9781492091837 is report: True\n",
      "['oreillye', 'getting started', 'with enterprise', 'blockchain', 'michael bradley, david gorman;', 'matt lucas & matthew golby-kirk', 'report']\n",
      "9781492052715 is report: True\n",
      "['oreilly', 'kubernetes', 'security', 'liz rice & michael hausenblas', 'report']\n",
      "9781492039075 is report: True\n",
      "['oreilly\"', 'the rise', 'of the', 'knowledge', 'graph', 'toward modern data integration', 'and the data fabric architecture', 'sean martin, ben szekely;', 'and dean allemang', 'report']\n",
      "9781098100407 is report: True\n",
      "['oreilly?', 'knowledge', 'graphs', 'data in context for', 'responsive businesses', 'jesus barrasa, amy e. hodler', '& jim webber', 'report']\n",
      "9781098104863 is report: True\n",
      "['oreilly\"', '10 steps every', 'ciso should', 'take to secure', 'next-gen', 'software', 'cindy blake', 'report']\n",
      "9781492082910 is report: True\n",
      "['oreilly\"', 'building', 'reliable', 'services on', 'the cloud', 'systematic resilience for', 'sustained reliability', 'phillip tischler', 'with', 'mcghee & shylaja nukala', 'report', 'steve']\n",
      "9781098120344 is report: True\n",
      "['oreilly', 'data science and', 'engineering at', 'enterprise scale', 'jerome nilmeier; phd', 'report']\n",
      "9781492039341 is report: True\n",
      "['oreilly', 'istio', 'explained', 'getting started with service mesh', 'lin sun & daniel', 'report', 'berg']\n",
      "9781492073963 is report: True\n",
      "['oreilly\"', 'security chaos', 'engineering', 'gaining confidence in resilience', 'and safety at speed and scale:', '2020 guide', 'aaron rinehart', '& kelly shortridge', 'from the authors', 'of security chaos', 'engineering', 'report', 'security _', 'choc:', 'engineerng']\n",
      "9781492080350 is report: True\n",
      "['oreilly', 'five principles for', 'deploying and', 'managing linux', 'in the cloud', 'sam r. alapati', 'report']\n",
      "9781492040934 is report: True\n",
      "['oreilly', 'analytics', 'engineering with', 'sql and dbt', 'building meaningful data models at scale', 'early', 'release', 'raw &', 'unedited', 'rui pedro machado', '€ helder russa']\n",
      "9781098142377 is report: False\n",
      "['oreillye', 'deedoxige', 'cloud', 'open', 'microservices', 'graham charters,', 'sebastian daschner,', 'pratik patel & steve poole', 'report']\n",
      "9781492052753 is report: True\n",
      "['oreilly\"', 'building intelligent', 'apps with', 'cognitive apis', 'develop your first intelligent', 'application using azure', 'cognitive services', 'anand raman & chris hoder', 'report']\n",
      "9781492058632 is report: True\n",
      "[\"oreilly'\", 'enterprise', 'aiops', 'a framework for', 'enabling', 'artificial intelligence', 'steve escaravage', 'justin neroda &', 'aaron peters', 'report']\n",
      "9781098107291 is report: True\n",
      "['oreilly', 'evpn in the', 'data center', 'dinesh g. dutt', 'report']\n",
      "9781492029045 is report: True\n",
      "['oreilly', 'distributed', 'denial of service', '(ddos)', 'eric chou & rich groves', 'report']\n",
      "9781492026181 is report: True\n",
      "['oreillye', 'what is', 'domain-driven', 'design?', 'vladik khononov', 'report']\n",
      "9781492057802 is report: True\n",
      "['oreillye', 'rebuilding', 'reliable data', 'pipelines through', 'modern tools', 'ted malaska', 'with the assistance of shivnath babu', 'report']\n",
      "9781492058175 is report: True\n",
      "['oreillye', 'monolithic', 'transformation', 'michael cote', 'report']\n",
      "9781492049807 is report: True\n",
      "[\"oreilly'\", 'al and', 'analytics', 'at scale', 'lessons from real-world', 'production systems', 'ted dunning', '& ellen friedman', 'report']\n",
      "9781492094388 is report: True\n",
      "[\"oreilly'\", 'slo adoption', '&', 'usage in', 'site reliability', 'engineering', 'julie mccoy', 'with nicole forsgren', 'report', 'cornplirents €', '{', '8']\n",
      "9781492075370 is report: True\n",
      "['oreilly', 'modernizing .net', 'applications', 'richard seroter', 'report']\n",
      "9781492043607 is report: True\n",
      "['oreilly', 'streaming', 'integration', 'steve wilkes', 'report']\n",
      "9781492045823 is report: True\n",
      "['oreilly', \"what's new\", 'in tensorflow', '2x2', 'the standard in', 'artificial intelligence', 'romeo kienzler', '& jerome nilmeier', 'report']\n",
      "9781492073727 is report: True\n",
      "['oreilly', 'delta lake:', 'up & running', 'modern data lakehouse architectures', 'with delta lake', 'early', 'release', 'raw €', 'unedited', 'compliments of', 'databricks', 'bennie haelen', '& dan davis']\n",
      "9781098139711 is report: False\n",
      "['oreilly\"', 'oveoroprexgy', 'it', 'simplify operations,', 'enable innovation_', 'and cultivate successful', 'cloud outcomes', 'lee atchison', 'with contributions from mark menger']\n",
      "9781492098485 is report: False\n",
      "['oreilly', 'application delivery', '& load', 'balancing in', 'microsoft azure', 'practical solutions with nginx', 'and microsoft azure', 'derek dejonghe', '& arlan nugara']\n",
      "9781098115852 is report: False\n",
      "['oreilly', 'digitalization of', 'financial', 'services', 'in the age of cloud', 'considerations for your', \"organization's cloud strategy\", 'jamil mina', 'armin warda,', 'rafael marins', '& russ miles']\n",
      "9781098136260 is report: False\n",
      "[\"oreilly'\", 'training site', 'reliability', 'engineers', 'what your organization needs', 'to create a', 'learning program', 'jennifer petoff; jc van winkel', '& preston yoshioka', 'with jessie', 'jesus climent collado', '6 myk taylor', 'report', 'yang;']\n",
      "9781492076018 is report: True\n",
      "['oreilly', 'learning', 'airtable', 'building database-driven applications', 'with low-code', 'early', 'release', 'raw &', 'unedited', 'elliott adams']\n",
      "9781098133368 is report: False\n",
      "['oreillye', 'microservices', 'for java', 'developers', 'rafael benevides', '& christian posta', 'report']\n",
      "9781492038290 is report: True\n",
      "['oreilly', 'security', 'as code', 'devsecops patterns with aws', 'bk sarthak das', 'virginia chu']\n",
      "9781098127459 is report: False\n",
      "['oreillye', 'data warehousing', 'with greenplum', 'second edition', 'marshall presser', 'report']\n",
      "9781492058137 is report: True\n"
     ]
    }
   ],
   "source": [
    "res = entries_to_be_checked.apply(is_oreilly_report, axis=1)"
   ],
   "metadata": {
    "collapsed": false,
    "ExecuteTime": {
     "end_time": "2023-07-13T15:49:36.511041Z",
     "start_time": "2023-07-13T15:42:05.644993Z"
    }
   }
  },
  {
   "cell_type": "code",
   "execution_count": 56,
   "outputs": [],
   "source": [
    "mask = res.reindex(df.index, fill_value=False)"
   ],
   "metadata": {
    "collapsed": false,
    "ExecuteTime": {
     "end_time": "2023-07-13T15:51:38.634895Z",
     "start_time": "2023-07-13T15:51:38.632321Z"
    }
   }
  },
  {
   "cell_type": "code",
   "execution_count": 57,
   "outputs": [],
   "source": [
    "df = df.drop(index=df[mask].index)"
   ],
   "metadata": {
    "collapsed": false,
    "ExecuteTime": {
     "end_time": "2023-07-13T15:51:39.442465Z",
     "start_time": "2023-07-13T15:51:39.423319Z"
    }
   }
  },
  {
   "cell_type": "code",
   "execution_count": 58,
   "outputs": [
    {
     "name": "stdout",
     "output_type": "stream",
     "text": [
      "Book count: 5139\n"
     ]
    }
   ],
   "source": [
    "print(f'Book count: {len(df.index.drop_duplicates())}')"
   ],
   "metadata": {
    "collapsed": false,
    "ExecuteTime": {
     "end_time": "2023-07-13T15:51:40.427765Z",
     "start_time": "2023-07-13T15:51:40.419392Z"
    }
   }
  },
  {
   "cell_type": "code",
   "execution_count": 59,
   "outputs": [
    {
     "data": {
      "text/plain": "                                                           title  \\\nproduct_id                                                         \n9781680508253                         Programming DSLs in Kotlin   \n9781803238715                             The Mini Book of Agile   \n9781838982362                               Clojure Polymorphism   \n9781484239223  Using Your Web Skills To Make Money: Secrets o...   \n9781680508420                             Resourceful Code Reuse   \n...                                                          ...   \n9781788627436          ROS Programming: Building Powerful Robots   \n9780134097145     Computer Security Art and Science, 2nd Edition   \n9780134177502  Analysis, Synthesis, and Design of Chemical Pr...   \n9781484278697  Pro C# 10 with .NET 6: Foundational Principles...   \n9780137993857  OCP Oracle Certified Professional Java SE 17 D...   \n\n                                                             url  page_count  \nproduct_id                                                                    \n9781680508253  https://learning.oreilly.com/library/view/-/97...          50  \n9781803238715  https://learning.oreilly.com/library/view/-/97...          50  \n9781838982362  https://learning.oreilly.com/library/view/-/97...          56  \n9781484239223  https://learning.oreilly.com/library/view/-/97...          56  \n9781680508420  https://learning.oreilly.com/library/view/-/97...          64  \n...                                                          ...         ...  \n9781788627436  https://learning.oreilly.com/library/view/-/97...        1396  \n9780134097145  https://learning.oreilly.com/library/view/-/97...        1440  \n9780134177502  https://learning.oreilly.com/library/view/-/97...        1520  \n9781484278697  https://learning.oreilly.com/library/view/-/97...        1680  \n9780137993857  https://learning.oreilly.com/library/view/-/97...        1851  \n\n[5139 rows x 3 columns]",
      "text/html": "<div>\n<style scoped>\n    .dataframe tbody tr th:only-of-type {\n        vertical-align: middle;\n    }\n\n    .dataframe tbody tr th {\n        vertical-align: top;\n    }\n\n    .dataframe thead th {\n        text-align: right;\n    }\n</style>\n<table border=\"1\" class=\"dataframe\">\n  <thead>\n    <tr style=\"text-align: right;\">\n      <th></th>\n      <th>title</th>\n      <th>url</th>\n      <th>page_count</th>\n    </tr>\n    <tr>\n      <th>product_id</th>\n      <th></th>\n      <th></th>\n      <th></th>\n    </tr>\n  </thead>\n  <tbody>\n    <tr>\n      <th>9781680508253</th>\n      <td>Programming DSLs in Kotlin</td>\n      <td>https://learning.oreilly.com/library/view/-/97...</td>\n      <td>50</td>\n    </tr>\n    <tr>\n      <th>9781803238715</th>\n      <td>The Mini Book of Agile</td>\n      <td>https://learning.oreilly.com/library/view/-/97...</td>\n      <td>50</td>\n    </tr>\n    <tr>\n      <th>9781838982362</th>\n      <td>Clojure Polymorphism</td>\n      <td>https://learning.oreilly.com/library/view/-/97...</td>\n      <td>56</td>\n    </tr>\n    <tr>\n      <th>9781484239223</th>\n      <td>Using Your Web Skills To Make Money: Secrets o...</td>\n      <td>https://learning.oreilly.com/library/view/-/97...</td>\n      <td>56</td>\n    </tr>\n    <tr>\n      <th>9781680508420</th>\n      <td>Resourceful Code Reuse</td>\n      <td>https://learning.oreilly.com/library/view/-/97...</td>\n      <td>64</td>\n    </tr>\n    <tr>\n      <th>...</th>\n      <td>...</td>\n      <td>...</td>\n      <td>...</td>\n    </tr>\n    <tr>\n      <th>9781788627436</th>\n      <td>ROS Programming: Building Powerful Robots</td>\n      <td>https://learning.oreilly.com/library/view/-/97...</td>\n      <td>1396</td>\n    </tr>\n    <tr>\n      <th>9780134097145</th>\n      <td>Computer Security Art and Science, 2nd Edition</td>\n      <td>https://learning.oreilly.com/library/view/-/97...</td>\n      <td>1440</td>\n    </tr>\n    <tr>\n      <th>9780134177502</th>\n      <td>Analysis, Synthesis, and Design of Chemical Pr...</td>\n      <td>https://learning.oreilly.com/library/view/-/97...</td>\n      <td>1520</td>\n    </tr>\n    <tr>\n      <th>9781484278697</th>\n      <td>Pro C# 10 with .NET 6: Foundational Principles...</td>\n      <td>https://learning.oreilly.com/library/view/-/97...</td>\n      <td>1680</td>\n    </tr>\n    <tr>\n      <th>9780137993857</th>\n      <td>OCP Oracle Certified Professional Java SE 17 D...</td>\n      <td>https://learning.oreilly.com/library/view/-/97...</td>\n      <td>1851</td>\n    </tr>\n  </tbody>\n</table>\n<p>5139 rows × 3 columns</p>\n</div>"
     },
     "execution_count": 59,
     "metadata": {},
     "output_type": "execute_result"
    }
   ],
   "source": [
    "df.loc[:, ['title', 'url', 'page_count']].drop_duplicates().sort_values(by='page_count')"
   ],
   "metadata": {
    "collapsed": false,
    "ExecuteTime": {
     "end_time": "2023-07-13T15:51:41.157213Z",
     "start_time": "2023-07-13T15:51:41.143023Z"
    }
   }
  },
  {
   "cell_type": "markdown",
   "source": [
    "Next step, `publication_date` we will convert it to datetime"
   ],
   "metadata": {
    "collapsed": false
   }
  },
  {
   "cell_type": "code",
   "execution_count": 60,
   "outputs": [],
   "source": [
    "df['publication_date'] = pd.to_datetime(df['publication_date'], format=\"%Y-%m-%d\")"
   ],
   "metadata": {
    "collapsed": false,
    "ExecuteTime": {
     "end_time": "2023-07-13T15:51:43.239691Z",
     "start_time": "2023-07-13T15:51:43.230670Z"
    }
   }
  },
  {
   "cell_type": "markdown",
   "source": [
    "Let's prepare to export data, we will create three tables:\n",
    "\n",
    "* book\n",
    "* category\n",
    "* author\n",
    "\n",
    "isbn code will be the field that will allow us to join different tables together.\n",
    "We won't create a table for publishers."
   ],
   "metadata": {
    "collapsed": false
   }
  },
  {
   "cell_type": "code",
   "execution_count": 61,
   "outputs": [],
   "source": [
    "import sqlite3"
   ],
   "metadata": {
    "collapsed": false,
    "ExecuteTime": {
     "end_time": "2023-07-13T15:51:45.451994Z",
     "start_time": "2023-07-13T15:51:45.444361Z"
    }
   }
  },
  {
   "cell_type": "code",
   "execution_count": 62,
   "outputs": [],
   "source": [
    "conn = sqlite3.connect('publishing_trends.sqlite3')"
   ],
   "metadata": {
    "collapsed": false,
    "ExecuteTime": {
     "end_time": "2023-07-13T15:51:46.056237Z",
     "start_time": "2023-07-13T15:51:46.051889Z"
    }
   }
  },
  {
   "cell_type": "code",
   "execution_count": 63,
   "outputs": [],
   "source": [
    "df.index.rename('isbn', inplace=True)"
   ],
   "metadata": {
    "collapsed": false,
    "ExecuteTime": {
     "end_time": "2023-07-13T15:51:47.486111Z",
     "start_time": "2023-07-13T15:51:47.479401Z"
    }
   }
  },
  {
   "cell_type": "code",
   "execution_count": 64,
   "outputs": [],
   "source": [
    "books = df.loc[:, ['title', 'description', 'language', 'url', 'publication_date', 'publisher', 'page_count', 'average_rating']].drop_duplicates()"
   ],
   "metadata": {
    "collapsed": false,
    "ExecuteTime": {
     "end_time": "2023-07-13T15:51:48.271169Z",
     "start_time": "2023-07-13T15:51:48.192893Z"
    }
   }
  },
  {
   "cell_type": "code",
   "execution_count": 65,
   "outputs": [
    {
     "data": {
      "text/plain": "5139"
     },
     "execution_count": 65,
     "metadata": {},
     "output_type": "execute_result"
    }
   ],
   "source": [
    "books.to_sql('book', conn, if_exists='replace')"
   ],
   "metadata": {
    "collapsed": false,
    "ExecuteTime": {
     "end_time": "2023-07-13T15:51:48.863548Z",
     "start_time": "2023-07-13T15:51:48.785771Z"
    }
   }
  },
  {
   "cell_type": "code",
   "execution_count": 66,
   "outputs": [],
   "source": [
    "author_series = df['authors'].drop_duplicates().explode()"
   ],
   "metadata": {
    "collapsed": false,
    "ExecuteTime": {
     "end_time": "2023-07-13T15:51:52.502914Z",
     "start_time": "2023-07-13T15:51:52.500151Z"
    }
   }
  },
  {
   "cell_type": "code",
   "execution_count": 67,
   "outputs": [],
   "source": [
    "author_series = author_series.rename('name')"
   ],
   "metadata": {
    "collapsed": false,
    "ExecuteTime": {
     "end_time": "2023-07-13T15:51:52.505293Z",
     "start_time": "2023-07-13T15:51:52.503877Z"
    }
   }
  },
  {
   "cell_type": "code",
   "execution_count": 68,
   "outputs": [
    {
     "data": {
      "text/plain": "6784"
     },
     "execution_count": 68,
     "metadata": {},
     "output_type": "execute_result"
    }
   ],
   "source": [
    "author_series.to_sql('author', conn, if_exists='replace')"
   ],
   "metadata": {
    "collapsed": false,
    "ExecuteTime": {
     "end_time": "2023-07-13T15:51:53.800940Z",
     "start_time": "2023-07-13T15:51:53.777694Z"
    }
   }
  },
  {
   "cell_type": "code",
   "execution_count": 69,
   "outputs": [
    {
     "data": {
      "text/plain": "17462"
     },
     "execution_count": 69,
     "metadata": {},
     "output_type": "execute_result"
    }
   ],
   "source": [
    "df['category'].to_sql('category', conn, if_exists='replace')"
   ],
   "metadata": {
    "collapsed": false,
    "ExecuteTime": {
     "end_time": "2023-07-13T15:51:57.351452Z",
     "start_time": "2023-07-13T15:51:57.318046Z"
    }
   }
  },
  {
   "cell_type": "code",
   "execution_count": 70,
   "outputs": [],
   "source": [
    "conn.commit()\n",
    "conn.close()"
   ],
   "metadata": {
    "collapsed": false,
    "ExecuteTime": {
     "end_time": "2023-07-13T15:51:58.223557Z",
     "start_time": "2023-07-13T15:51:58.176344Z"
    }
   }
  }
 ],
 "metadata": {
  "kernelspec": {
   "display_name": "Python 3",
   "language": "python",
   "name": "python3"
  },
  "language_info": {
   "codemirror_mode": {
    "name": "ipython",
    "version": 2
   },
   "file_extension": ".py",
   "mimetype": "text/x-python",
   "name": "python",
   "nbconvert_exporter": "python",
   "pygments_lexer": "ipython2",
   "version": "2.7.6"
  }
 },
 "nbformat": 4,
 "nbformat_minor": 0
}
